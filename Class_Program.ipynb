{
 "cells": [
  {
   "cell_type": "code",
   "execution_count": 1,
   "metadata": {},
   "outputs": [
    {
     "name": "stdout",
     "output_type": "stream",
     "text": [
      "60\n"
     ]
    }
   ],
   "source": [
    "class laptop:\n",
    "    def mouse(self):\n",
    "        self.n1=20\n",
    "        self.n2=40\n",
    "        print(self.n1+self.n2)\n",
    "        \n",
    "lap=laptop()\n",
    "lap.mouse()"
   ]
  },
  {
   "cell_type": "code",
   "execution_count": 2,
   "metadata": {},
   "outputs": [
    {
     "name": "stdout",
     "output_type": "stream",
     "text": [
      "Nik 123\n",
      "Enter the Marks : 78\n",
      "Enter the Marks : 98\n",
      "Enter the Marks : 88\n",
      "[78, 98, 88]\n"
     ]
    }
   ],
   "source": [
    "class person:\n",
    "    def details(self,name,num):\n",
    "        self.name=name\n",
    "        self.num=num\n",
    "    def show(self,n):\n",
    "        marks=[]\n",
    "        print(self.name,self.num)\n",
    "        for x in range(n):\n",
    "            m=int(input(\"Enter the Marks : \"))\n",
    "            marks.append(m)\n",
    "        print(marks)\n",
    "p1=person()\n",
    "p1.details(\"Nik\",123)\n",
    "p1.show(3)"
   ]
  },
  {
   "cell_type": "code",
   "execution_count": 3,
   "metadata": {},
   "outputs": [
    {
     "name": "stdout",
     "output_type": "stream",
     "text": [
      "60\n",
      "Add Numbers75\n",
      "Add Numbers68\n",
      "Add Numbers87\n",
      "Add Numbers68\n",
      "Add Numbers77\n",
      "This is My Marks:  [75, 68, 87, 68, 77]\n",
      "My total Marks 375 My Percentage is:  75.0\n"
     ]
    }
   ],
   "source": [
    "class laptop:\n",
    "    \n",
    "    def mouse(self):\n",
    "        self.n1=20\n",
    "        self.n2=40\n",
    "        self.n=5\n",
    "        print(self.n1+self.n2)\n",
    "    def screen(self):\n",
    "        marks=[]\n",
    "        for x in range(self.n):\n",
    "            ab=int(input(\"Add Numbers\"))\n",
    "            marks.append(ab)\n",
    "        print(\"This is My Marks: \",marks)\n",
    "        total=sum(marks)\n",
    "        avg=total/len(marks)\n",
    "        print(\"My total Marks\",total,\"My Percentage is: \",avg)\n",
    "            \n",
    "            \n",
    "lap=laptop()\n",
    "lap.mouse()\n",
    "lap.screen()"
   ]
  },
  {
   "cell_type": "code",
   "execution_count": 4,
   "metadata": {},
   "outputs": [
    {
     "name": "stdout",
     "output_type": "stream",
     "text": [
      "Enter the Name: Isha\n",
      "Enter The Number: 789456\n",
      "Isha 789456\n",
      "Enter the Marks : 66\n",
      "Enter the Marks : 87\n",
      "Enter the Marks : 76\n",
      "[66, 87, 76]\n",
      "My Name is:  Isha and Pincode is:  789456\n"
     ]
    }
   ],
   "source": [
    "class person:\n",
    "    def details(self,name,num):\n",
    "        self.name=name\n",
    "        self.num=num\n",
    "    def show(self,n):\n",
    "        marks=[]\n",
    "        print(self.name,self.num)\n",
    "        for x in range(n):\n",
    "            m=int(input(\"Enter the Marks : \"))\n",
    "            marks.append(m)\n",
    "        print(marks)\n",
    "    def mouse(self):\n",
    "        print(\"My Name is: \",self.name,\"and Pincode is: \",self.num)\n",
    "\n",
    "a=input(\"Enter the Name: \")\n",
    "b=int(input(\"Enter The Number: \"))\n",
    "p1=person()\n",
    "p1.details(a,b)\n",
    "p1.show(3)\n",
    "p1.mouse()"
   ]
  },
  {
   "cell_type": "code",
   "execution_count": 5,
   "metadata": {},
   "outputs": [
    {
     "name": "stdout",
     "output_type": "stream",
     "text": [
      "Enter the Name: Anshika\n",
      "Enter The Number: 6874\n",
      "Anshika 6874\n",
      "Enter the Marks : 78\n",
      "Enter the Marks : 68\n",
      "Enter the Marks : 98\n",
      "[78, 68, 98]\n",
      "My Name is:  Anshika and Pincode is:  6874\n"
     ]
    }
   ],
   "source": [
    "class person:\n",
    "    def __init__(self,name,num):\n",
    "        self.name=name\n",
    "        self.num=num\n",
    "    def show(self,n):\n",
    "        marks=[]\n",
    "        print(self.name,self.num)\n",
    "        for x in range(n):\n",
    "            m=int(input(\"Enter the Marks : \"))\n",
    "            marks.append(m)\n",
    "        print(marks)\n",
    "    def mouse(self):\n",
    "        print(\"My Name is: \",self.name,\"and Pincode is: \",self.num)\n",
    "\n",
    "a=input(\"Enter the Name: \")\n",
    "b=int(input(\"Enter The Number: \"))\n",
    "p1=person(a,b)\n",
    "p1.show(3)\n",
    "p1.mouse()"
   ]
  },
  {
   "cell_type": "code",
   "execution_count": 1,
   "metadata": {},
   "outputs": [
    {
     "name": "stdout",
     "output_type": "stream",
     "text": [
      "Hey...........\n",
      "Hey1......\n"
     ]
    }
   ],
   "source": [
    "# Inheritance\n",
    "\n",
    "class person():\n",
    "    def __init__(self, name, age):\n",
    "        print(\"Hey1......\")\n",
    "        self.name = name\n",
    "        self.age = age\n",
    "        \n",
    "class person1(person):\n",
    "    def __init__(self, name1, age1):\n",
    "        print(\"Hey...........\")\n",
    "        self.name1 = name1\n",
    "        self.age1 = age1\n",
    "obj=person1(\"nik\",12)\n",
    "obj=person(\"NN\",4)\n"
   ]
  },
  {
   "cell_type": "code",
   "execution_count": 2,
   "metadata": {},
   "outputs": [
    {
     "name": "stdout",
     "output_type": "stream",
     "text": [
      "I am student.........\n",
      "I am stud....\n"
     ]
    }
   ],
   "source": [
    "# Inheritance\n",
    "\n",
    "class stud():\n",
    "    def ab(self,name,num):\n",
    "        print(\"I am stud....\")\n",
    "        self.name=name\n",
    "        self.num=num\n",
    "        \n",
    "class student(stud):\n",
    "    def df(self,name1,num1):\n",
    "        print(\"I am student.........\")\n",
    "        self.name1=name1\n",
    "        self.num1=num1\n",
    "        \n",
    "obj=student()  \n",
    "obj.df(\"fg\",6)\n",
    "obj.ab(\"Sag\",3)\n"
   ]
  },
  {
   "cell_type": "code",
   "execution_count": 6,
   "metadata": {},
   "outputs": [
    {
     "name": "stdout",
     "output_type": "stream",
     "text": [
      "Enter the Name: nik\n",
      "Enter The Number: 854954561\n",
      "Enter the Name: tanu\n",
      "Enter The Number: 774562320\n",
      "nik 854954561\n",
      "tanu 774562320\n"
     ]
    }
   ],
   "source": [
    "class person:\n",
    "    def __init__(self,name,num):\n",
    "        self.name=name\n",
    "        self.num=num\n",
    "    def show(self):\n",
    "        print(self.name,self.num)\n",
    "   \n",
    "\n",
    "class xyz:\n",
    "    def __init__(self,city,pincode):\n",
    "        self.city=city\n",
    "        self.pincode=pincode\n",
    "    def shows(self):\n",
    "        print(self.city,self.pincode)\n",
    "        \n",
    "a=input(\"Enter the Name: \")\n",
    "b=int(input(\"Enter The Number: \"))\n",
    "c=input(\"Enter the Name: \")\n",
    "d=int(input(\"Enter The Number: \"))\n",
    "p2=person(a,b)\n",
    "p1=xyz(c,d)\n",
    "p2.show()\n",
    "p1.shows()"
   ]
  },
  {
   "cell_type": "code",
   "execution_count": null,
   "metadata": {},
   "outputs": [],
   "source": []
  }
 ],
 "metadata": {
  "kernelspec": {
   "display_name": "Python 3 (ipykernel)",
   "language": "python",
   "name": "python3"
  },
  "language_info": {
   "codemirror_mode": {
    "name": "ipython",
    "version": 3
   },
   "file_extension": ".py",
   "mimetype": "text/x-python",
   "name": "python",
   "nbconvert_exporter": "python",
   "pygments_lexer": "ipython3",
   "version": "3.9.12"
  }
 },
 "nbformat": 4,
 "nbformat_minor": 4
}
