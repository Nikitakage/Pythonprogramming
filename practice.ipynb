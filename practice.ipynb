{
 "cells": [
  {
   "cell_type": "code",
   "execution_count": 1,
   "metadata": {},
   "outputs": [
    {
     "name": "stdout",
     "output_type": "stream",
     "text": [
      "Enter the value78\n",
      "Enter the value63\n",
      "141\n",
      "I got\n"
     ]
    }
   ],
   "source": [
    "ab=[\"Nik\",\"Ankita\",\"Kajal\"]\n",
    "for x in ab:\n",
    "    if x==\"Kajal\":\n",
    "        print(\"I got\")\n",
    "    elif x==\"Nik\":\n",
    "        a=int(input(\"Enter the value\"))\n",
    "        b=int(input(\"Enter the value\"))\n",
    "        print(a+b)"
   ]
  },
  {
   "cell_type": "code",
   "execution_count": 2,
   "metadata": {},
   "outputs": [
    {
     "name": "stdout",
     "output_type": "stream",
     "text": [
      "ENter value45\n",
      "Enter value56\n",
      "101\n"
     ]
    }
   ],
   "source": [
    "def add(a,b):\n",
    "    print(a+b)\n",
    "a=int(input(\"ENter value\"))\n",
    "b=int(input(\"Enter value\"))\n",
    "add(a,b)"
   ]
  },
  {
   "cell_type": "code",
   "execution_count": 3,
   "metadata": {},
   "outputs": [
    {
     "name": "stdout",
     "output_type": "stream",
     "text": [
      "Enter the value--45\n",
      "Enter the value--66\n",
      "Enter the value--32\n",
      "['45', '66', '32']\n"
     ]
    }
   ],
   "source": [
    "ab=[]\n",
    "for x in range(3):\n",
    "    a=input(\"Enter the value--\")\n",
    "    ab.append(a)\n",
    "print(ab)"
   ]
  },
  {
   "cell_type": "code",
   "execution_count": 4,
   "metadata": {},
   "outputs": [
    {
     "name": "stdout",
     "output_type": "stream",
     "text": [
      "Enter the name--neha\n",
      "Enter the Marks-- 78\n",
      "Enter the name--nik\n",
      "Enter the Marks-- 89\n",
      "Enter the name--dish\n",
      "Enter the Marks-- 66\n",
      "[78, 89, 66]\n",
      "['neha', 'nik', 'dish']\n"
     ]
    }
   ],
   "source": [
    "ag=[]\n",
    "ad=[]\n",
    "for x in range(3):\n",
    "    b=input(\"Enter the name--\")\n",
    "    c=int(input(\"Enter the Marks-- \"))\n",
    "    ag.append(b)\n",
    "    ad.append(c)\n",
    "print(ad)\n",
    "print(ag)"
   ]
  },
  {
   "cell_type": "code",
   "execution_count": 5,
   "metadata": {},
   "outputs": [
    {
     "name": "stdout",
     "output_type": "stream",
     "text": [
      "['neha', 'ira', 'om', 'adi', 'diksh', 'shre']\n"
     ]
    }
   ],
   "source": [
    "ar=[\"neha\", \"ira\", \"adi\", \"diksh\", \"shre\"]\n",
    "ar.insert(2,\"om\")\n",
    "print(ar)\n",
    "    "
   ]
  },
  {
   "cell_type": "code",
   "execution_count": 6,
   "metadata": {},
   "outputs": [
    {
     "name": "stdout",
     "output_type": "stream",
     "text": [
      "I got\n",
      "56\n",
      "89\n",
      "Addition is--- 145\n",
      "65\n",
      "89\n",
      "Addition is--- 154\n",
      "Yes I am shre---\n",
      "[145, 154]\n"
     ]
    }
   ],
   "source": [
    "add=[]\n",
    "arr=[\"neha\", \"ira\", \"adi\", \"diksh\", \"shre\"]\n",
    "for x in arr:\n",
    "    if x==\"adi\":\n",
    "        print(\"I got\")\n",
    "    elif x==\"diksh\":\n",
    "        for i in range(2):\n",
    "            a=int(input())\n",
    "            b=int(input())\n",
    "            c=a+b\n",
    "            print(\"Addition is---\",c)\n",
    "            add.append(c)\n",
    "    elif x==\"shre\":\n",
    "        print(\"Yes I am shre---\")\n",
    "print(add)"
   ]
  },
  {
   "cell_type": "code",
   "execution_count": 7,
   "metadata": {},
   "outputs": [
    {
     "name": "stdout",
     "output_type": "stream",
     "text": [
      "Enter value---88\n",
      "-21\n"
     ]
    }
   ],
   "source": [
    "def sub(a):\n",
    "    print(a-b)\n",
    "b=int(input(\"Enter value---\"))\n",
    "sub(67)"
   ]
  },
  {
   "cell_type": "code",
   "execution_count": 8,
   "metadata": {},
   "outputs": [
    {
     "name": "stdout",
     "output_type": "stream",
     "text": [
      "336\n"
     ]
    }
   ],
   "source": [
    "def mul(a,b,c):\n",
    "    print(a*b*c)\n",
    "mul(6,8,7)"
   ]
  },
  {
   "cell_type": "code",
   "execution_count": 9,
   "metadata": {},
   "outputs": [
    {
     "name": "stdout",
     "output_type": "stream",
     "text": [
      "It is Positive or zero\n"
     ]
    }
   ],
   "source": [
    "num=3\n",
    "if num>=0:\n",
    "    print(\"It is Positive or zero\")\n",
    "else:\n",
    "    print(\"It is Negative \")\n",
    "    "
   ]
  },
  {
   "cell_type": "code",
   "execution_count": 11,
   "metadata": {},
   "outputs": [
    {
     "name": "stdout",
     "output_type": "stream",
     "text": [
      "Enter the value--98\n",
      "Its positive-\n",
      "---------------------------\n",
      "Enter the value--0\n",
      "Its negative\n",
      "---------------------------\n",
      "Enter the value---9\n",
      "Its negative\n",
      "---------------------------\n",
      "Enter the value--22\n",
      "Its positive-\n",
      "---------------------------\n",
      "Enter the value---5\n",
      "Its negative\n",
      "---------------------------\n"
     ]
    }
   ],
   "source": [
    "for x in range(5):\n",
    "    num=int(input(\"Enter the value--\"))\n",
    "    if num>0:\n",
    "        print(\"Its positive-\")\n",
    "    else:\n",
    "        print(\"Its negative\")\n",
    "    print(\"---------------------------\")"
   ]
  },
  {
   "cell_type": "markdown",
   "metadata": {},
   "source": [
    "# Class"
   ]
  },
  {
   "cell_type": "code",
   "execution_count": 12,
   "metadata": {},
   "outputs": [
    {
     "name": "stdout",
     "output_type": "stream",
     "text": [
      "177\n"
     ]
    }
   ],
   "source": [
    "class operation:\n",
    "    def add(self):\n",
    "        a=90\n",
    "        b=87\n",
    "        print(a+b)\n",
    "o=operation()\n",
    "o.add()"
   ]
  },
  {
   "cell_type": "code",
   "execution_count": 13,
   "metadata": {},
   "outputs": [
    {
     "name": "stdout",
     "output_type": "stream",
     "text": [
      "44\n",
      "3\n",
      "132\n",
      "56\n",
      "23\n",
      "33\n"
     ]
    }
   ],
   "source": [
    "class ope:\n",
    "    def mul(self):\n",
    "        a=int(input())\n",
    "        b=int(input())\n",
    "        print(a*b)\n",
    "    def sub(self):\n",
    "        c=int(input())\n",
    "        d=int(input())\n",
    "        print(c-d)\n",
    "o=ope()\n",
    "o.mul()\n",
    "o.sub()"
   ]
  },
  {
   "cell_type": "code",
   "execution_count": 14,
   "metadata": {},
   "outputs": [
    {
     "name": "stdout",
     "output_type": "stream",
     "text": [
      "My name is-- Nik My city is-- Pune My no. is-- 54879469\n"
     ]
    }
   ],
   "source": [
    "class person:\n",
    "    def xzz(self):\n",
    "        self.name=\"Nik\"\n",
    "        self.city=\"Pune\"\n",
    "        self.no=\"54879469\"\n",
    "    def show(self):\n",
    "        print(\"My name is--\",self.name,\"My city is--\",self.city,\"My no. is--\",self.no)\n",
    "        \n",
    "o=person()\n",
    "o.xzz()\n",
    "o.show()\n",
    "        "
   ]
  },
  {
   "cell_type": "code",
   "execution_count": 15,
   "metadata": {},
   "outputs": [
    {
     "name": "stdout",
     "output_type": "stream",
     "text": [
      "neha\n",
      "pune\n",
      "Name-- neha City-- pune\n"
     ]
    }
   ],
   "source": [
    "class xyz:\n",
    "    def pro(self,Name,city):\n",
    "        self.Name=Name\n",
    "        self.city=city\n",
    "        \n",
    "    def show(self):\n",
    "        print(\"Name--\",self.Name,\"City--\",self.city)\n",
    "        \n",
    "a=input()\n",
    "b=input()\n",
    "o=xyz()\n",
    "o.pro(a,b)\n",
    "o.show()"
   ]
  },
  {
   "cell_type": "code",
   "execution_count": 1,
   "metadata": {},
   "outputs": [
    {
     "name": "stdout",
     "output_type": "stream",
     "text": [
      "manu\n",
      "pune\n",
      "manu@132\n",
      "Enter the marks--86\n",
      "Enter the marks--65\n",
      "Enter the marks--55\n",
      "Enter the marks--21\n",
      "Enter the marks--77\n",
      "[86, 65, 55, 21, 77]\n",
      "Name- manu city- pune Email- manu@132\n"
     ]
    }
   ],
   "source": [
    "class perr:\n",
    "    def call(self):\n",
    "        a=input()\n",
    "        b=input()\n",
    "        c=input()\n",
    "        \n",
    "        for x in range(5):\n",
    "            m=int(input(\"Enter the marks--\"))\n",
    "            ab.append(m)\n",
    "        print(ab)\n",
    "        print(\"Name-\",a,\"city-\",b,\"Email-\",c)\n",
    "        \n",
    "ab=[]\n",
    "o=perr()\n",
    "o.call()"
   ]
  },
  {
   "cell_type": "code",
   "execution_count": 2,
   "metadata": {},
   "outputs": [
    {
     "name": "stdout",
     "output_type": "stream",
     "text": [
      "Enter the name: ira\n",
      "Enter the number: 59897626\n",
      "Enter the email_id: ira@564\n",
      "Name: ira __ Number: 59897626 ___ Email_id: ira@564\n"
     ]
    }
   ],
   "source": [
    "class person:\n",
    "    def xyz(self,a,b,c):\n",
    "        print(\"Name:\",a,\"__\",\"Number:\",b,\"___\",\"Email_id:\",c)\n",
    "a=input(\"Enter the name: \")\n",
    "b=int(input(\"Enter the number: \"))\n",
    "c=input(\"Enter the email_id: \")\n",
    "  \n",
    "o=person()\n",
    "o.xyz(a,b,c)"
   ]
  },
  {
   "cell_type": "code",
   "execution_count": null,
   "metadata": {},
   "outputs": [
    {
     "name": "stdout",
     "output_type": "stream",
     "text": [
      "ankita\n",
      "7987984651\n",
      "19\n"
     ]
    }
   ],
   "source": [
    "class student:\n",
    "    def __init__(self,name,num,age,batch):\n",
    "        self.name=name\n",
    "        self.num=num\n",
    "        self.age=age\n",
    "        self.batch=batch\n",
    "    def call(self):\n",
    "        print(\"My name:\",self.name,\"My no.:\",self.num,\"My age:\",self.age,\"My batch:\",self.batch)\n",
    "a=input()\n",
    "b=int(input())\n",
    "c=int(input())\n",
    "d=input()\n",
    "o=student(a,b,c,d)\n",
    "o.call()"
   ]
  },
  {
   "cell_type": "code",
   "execution_count": null,
   "metadata": {},
   "outputs": [],
   "source": [
    "class mobile:\n",
    "    def __init__(self,a,b,c):\n",
    "           \n",
    "        print(\"Name-\",a,\"City-\",b,\"Num-\",c)\n",
    "a=input()\n",
    "b=input()\n",
    "c=int(input())\n",
    "o=mobile(a,b,c)"
   ]
  },
  {
   "cell_type": "code",
   "execution_count": null,
   "metadata": {},
   "outputs": [],
   "source": []
  }
 ],
 "metadata": {
  "kernelspec": {
   "display_name": "Python 3",
   "language": "python",
   "name": "python3"
  },
  "language_info": {
   "codemirror_mode": {
    "name": "ipython",
    "version": 3
   },
   "file_extension": ".py",
   "mimetype": "text/x-python",
   "name": "python",
   "nbconvert_exporter": "python",
   "pygments_lexer": "ipython3",
   "version": "3.8.5"
  }
 },
 "nbformat": 4,
 "nbformat_minor": 4
}
