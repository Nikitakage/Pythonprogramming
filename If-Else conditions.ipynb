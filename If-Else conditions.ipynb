{
 "cells": [
  {
   "cell_type": "code",
   "execution_count": 1,
   "metadata": {},
   "outputs": [
    {
     "name": "stdout",
     "output_type": "stream",
     "text": [
      "Yes its true........\n"
     ]
    }
   ],
   "source": [
    "a=20\n",
    "b=80\n",
    "if a<b:\n",
    "    print(\"Yes its true........\")\n"
   ]
  },
  {
   "cell_type": "code",
   "execution_count": 2,
   "metadata": {},
   "outputs": [
    {
     "name": "stdout",
     "output_type": "stream",
     "text": [
      "Its Not.......\n"
     ]
    }
   ],
   "source": [
    "a=20\n",
    "b=80\n",
    "if a>b:\n",
    "    print(\"Yes its true.......\")\n",
    "else:\n",
    "    print(\"Its Not.......\")"
   ]
  },
  {
   "cell_type": "code",
   "execution_count": 3,
   "metadata": {},
   "outputs": [
    {
     "name": "stdout",
     "output_type": "stream",
     "text": [
      "Its not....\n"
     ]
    }
   ],
   "source": [
    "a=\"Nikita\"\n",
    "b=\"Aarohi\"\n",
    "if a==b:\n",
    "    print(\"Its true.....\")\n",
    "else:\n",
    "    print(\"Its not....\")"
   ]
  },
  {
   "cell_type": "code",
   "execution_count": 4,
   "metadata": {},
   "outputs": [
    {
     "name": "stdout",
     "output_type": "stream",
     "text": [
      "Its not....\n"
     ]
    }
   ],
   "source": [
    "a=\"Nikita\"\n",
    "b=\"nikita\"\n",
    "if a==b:\n",
    "    print(\"Its true.....\")\n",
    "else:\n",
    "    print(\"Its not....\")"
   ]
  },
  {
   "cell_type": "code",
   "execution_count": 5,
   "metadata": {},
   "outputs": [
    {
     "name": "stdout",
     "output_type": "stream",
     "text": [
      "Its true.....\n"
     ]
    }
   ],
   "source": [
    "a=\"Nikita\"\n",
    "b=\"Nikita\"\n",
    "if a==b:\n",
    "    print(\"Its true.....\")\n",
    "else:\n",
    "    print(\"Its not....\")"
   ]
  },
  {
   "cell_type": "code",
   "execution_count": 6,
   "metadata": {},
   "outputs": [
    {
     "name": "stdout",
     "output_type": "stream",
     "text": [
      "Enter the value: 20\n",
      "enter the value: 20\n",
      "True...\n"
     ]
    }
   ],
   "source": [
    "a=input(\"Enter the value: \")\n",
    "b=input(\"enter the value: \")\n",
    "if a==b:\n",
    "    print(\"True...\")\n",
    "else:\n",
    "    print(\"Not....\")"
   ]
  },
  {
   "cell_type": "code",
   "execution_count": 7,
   "metadata": {},
   "outputs": [
    {
     "name": "stdout",
     "output_type": "stream",
     "text": [
      "Enter the value: 56\n",
      "Enter the value: 32\n",
      "Its true.....\n"
     ]
    }
   ],
   "source": [
    "a=int(input(\"Enter the value: \"))\n",
    "b=int(input(\"Enter the value: \"))\n",
    "if a!=b:\n",
    "    print(\"Its true.....\")\n",
    "else:\n",
    "    print(\"Its false....\")"
   ]
  },
  {
   "cell_type": "code",
   "execution_count": 8,
   "metadata": {},
   "outputs": [
    {
     "name": "stdout",
     "output_type": "stream",
     "text": [
      "Enter the value: 50\n",
      "Enter the value: 60\n",
      "True...\n"
     ]
    }
   ],
   "source": [
    "a=int(input(\"Enter the value: \"))\n",
    "b=int(input(\"Enter the value: \"))\n",
    "if a==50 and b==60:\n",
    "    print(\"True...\")\n",
    "else:\n",
    "    print(\"False\")"
   ]
  },
  {
   "cell_type": "code",
   "execution_count": 9,
   "metadata": {},
   "outputs": [
    {
     "name": "stdout",
     "output_type": "stream",
     "text": [
      "Enter the value: 65060\n",
      "Enter the value: 60\n",
      "True...\n"
     ]
    }
   ],
   "source": [
    "a=int(input(\"Enter the value: \"))\n",
    "b=int(input(\"Enter the value: \"))\n",
    "if a==50 or b==60:\n",
    "    print(\"True...\")\n",
    "else:\n",
    "    print(\"False\")"
   ]
  },
  {
   "cell_type": "code",
   "execution_count": 10,
   "metadata": {},
   "outputs": [
    {
     "name": "stdout",
     "output_type": "stream",
     "text": [
      "Enter the value: Nikya\n",
      "Enter the value: 1325\n",
      "False\n"
     ]
    }
   ],
   "source": [
    "a=input(\"Enter the value: \")\n",
    "b=int(input(\"Enter the value: \"))\n",
    "if a==\"Nikya\" and b==1328:\n",
    "    print(\"True...\")\n",
    "else:\n",
    "    print(\"False\")"
   ]
  },
  {
   "cell_type": "code",
   "execution_count": 11,
   "metadata": {},
   "outputs": [
    {
     "name": "stdout",
     "output_type": "stream",
     "text": [
      "B\n"
     ]
    }
   ],
   "source": [
    "a = 2\n",
    "b = 330\n",
    "\n",
    "print(\"A\") if a > b else print(\"B\")\n"
   ]
  },
  {
   "cell_type": "code",
   "execution_count": 12,
   "metadata": {},
   "outputs": [
    {
     "name": "stdout",
     "output_type": "stream",
     "text": [
      "Positive or Zero\n"
     ]
    }
   ],
   "source": [
    "num=3\n",
    "if num >= 0:\n",
    "    print(\"Positive or Zero\")\n",
    "else:\n",
    "    print(\"Negative number\")"
   ]
  }
 ],
 "metadata": {
  "kernelspec": {
   "display_name": "Python 3",
   "language": "python",
   "name": "python3"
  },
  "language_info": {
   "codemirror_mode": {
    "name": "ipython",
    "version": 3
   },
   "file_extension": ".py",
   "mimetype": "text/x-python",
   "name": "python",
   "nbconvert_exporter": "python",
   "pygments_lexer": "ipython3",
   "version": "3.8.5"
  }
 },
 "nbformat": 4,
 "nbformat_minor": 4
}
