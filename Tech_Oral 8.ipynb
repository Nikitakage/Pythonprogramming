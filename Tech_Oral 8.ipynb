{
 "cells": [
  {
   "cell_type": "code",
   "execution_count": 1,
   "id": "81cf7753",
   "metadata": {},
   "outputs": [],
   "source": [
    "tuple=tuple()"
   ]
  },
  {
   "cell_type": "code",
   "execution_count": 2,
   "id": "f381fe7d",
   "metadata": {},
   "outputs": [
    {
     "name": "stdout",
     "output_type": "stream",
     "text": [
      "Enter the name....Nikita\n",
      "Enter the name....Neha\n",
      "Enter the name....Aaru\n",
      "Enter the name....Diksha\n",
      "Enter the name....Nita\n",
      "['Nikita', 'Neha', 'Aaru', 'Diksha', 'Nita']\n"
     ]
    }
   ],
   "source": [
    "l=[]\n",
    "for x in range(5):\n",
    "    name=input(\"Enter the name....\")\n",
    "    l.append(name)\n",
    "print(l)"
   ]
  },
  {
   "cell_type": "code",
   "execution_count": 3,
   "id": "3be8fa61",
   "metadata": {},
   "outputs": [
    {
     "name": "stdout",
     "output_type": "stream",
     "text": [
      "['Nikita', 'Sayali', 'Renu', 'Neha', 'Anuja']\n"
     ]
    }
   ],
   "source": [
    "m=['Nikita', 'Neha', 'Renu', 'Sayali', 'Anuja']\n",
    "m[3],m[1]=m[1],m[3]\n",
    "print(m)"
   ]
  },
  {
   "cell_type": "code",
   "execution_count": 4,
   "id": "7431f9e4",
   "metadata": {},
   "outputs": [],
   "source": [
    "import numpy as np"
   ]
  },
  {
   "cell_type": "code",
   "execution_count": 5,
   "id": "30d12006",
   "metadata": {},
   "outputs": [
    {
     "data": {
      "text/plain": [
       "array([8, 7, 6, 4, 3, 2])"
      ]
     },
     "execution_count": 5,
     "metadata": {},
     "output_type": "execute_result"
    }
   ],
   "source": [
    "s=[2,4,6,3,7,8]\n",
    "np.sort(s)[::-1]"
   ]
  },
  {
   "cell_type": "code",
   "execution_count": 6,
   "id": "8d2dc3df",
   "metadata": {},
   "outputs": [
    {
     "name": "stdout",
     "output_type": "stream",
     "text": [
      "Enter the num...6\n",
      "Its even...\n",
      "Enter the num...3\n",
      "Its odd...\n",
      "Enter the num...7\n",
      "Its odd...\n",
      "Enter the num...8\n",
      "Its even...\n",
      "Enter the num...4\n",
      "Its even...\n"
     ]
    }
   ],
   "source": [
    "for x in range(5):\n",
    "    a=int(input(\"Enter the num...\"))\n",
    "    if (a%2==0):\n",
    "        print(\"Its even...\")\n",
    "    else:\n",
    "        print(\"Its odd...\")"
   ]
  },
  {
   "cell_type": "code",
   "execution_count": 7,
   "id": "82bc74c0",
   "metadata": {},
   "outputs": [
    {
     "name": "stdout",
     "output_type": "stream",
     "text": [
      "30\n"
     ]
    }
   ],
   "source": [
    "s=[2,4,6,3,7,8]\n",
    "print(sum(s))"
   ]
  },
  {
   "cell_type": "code",
   "execution_count": null,
   "id": "cf749ee6",
   "metadata": {},
   "outputs": [],
   "source": []
  }
 ],
 "metadata": {
  "kernelspec": {
   "display_name": "Python 3 (ipykernel)",
   "language": "python",
   "name": "python3"
  },
  "language_info": {
   "codemirror_mode": {
    "name": "ipython",
    "version": 3
   },
   "file_extension": ".py",
   "mimetype": "text/x-python",
   "name": "python",
   "nbconvert_exporter": "python",
   "pygments_lexer": "ipython3",
   "version": "3.9.7"
  }
 },
 "nbformat": 4,
 "nbformat_minor": 5
}
