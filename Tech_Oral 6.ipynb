{
 "cells": [
  {
   "cell_type": "code",
   "execution_count": 1,
   "metadata": {},
   "outputs": [
    {
     "name": "stdout",
     "output_type": "stream",
     "text": [
      "Enter the marks...89\n",
      "Enter the marks...78\n",
      "Enter the marks...63\n",
      "Enter the marks...85\n",
      "Enter the marks...45\n",
      "[89, 78, 63, 85, 45]\n",
      "Total marks.. 360\n",
      "Neha's Percentage is... 72.0\n",
      "---------------------------------------------\n",
      "Enter the marks...78\n",
      "Enter the marks...65\n",
      "Enter the marks...45\n",
      "Enter the marks...98\n",
      "Enter the marks...88\n",
      "[78, 65, 45, 98, 88]\n",
      "Total marks... 374\n",
      "Aaru's percentage is.... 74.8\n"
     ]
    }
   ],
   "source": [
    "name=[\"Neha\",\"Aaru\"]\n",
    "Mark=[]\n",
    "Marks=[]\n",
    "for x in name:\n",
    "    if x==\"Neha\":\n",
    "        for y in range(5):\n",
    "            m=int(input(\"Enter the marks...\"))\n",
    "            Mark.append(m)\n",
    "            total=sum(Mark)\n",
    "            avg=total/len(Mark)\n",
    "        print(Mark)\n",
    "        print(\"Total marks..\",total)\n",
    "        print(\"Neha's Percentage is...\",avg)\n",
    "        print(\"---------------------------------------------\")   \n",
    "    elif x==\"Aaru\":\n",
    "        for i in range(5):\n",
    "            mk=int(input(\"Enter the marks...\"))\n",
    "            Marks.append(mk)\n",
    "            total=sum(Marks)\n",
    "            avg=total/len(Marks)\n",
    "        print(Marks)\n",
    "        print(\"Total marks...\",total)\n",
    "        print(\"Aaru's percentage is....\",avg)\n",
    "    \n",
    "        "
   ]
  },
  {
   "cell_type": "code",
   "execution_count": 2,
   "metadata": {},
   "outputs": [
    {
     "name": "stdout",
     "output_type": "stream",
     "text": [
      "* \n",
      "* * \n",
      "* * * \n",
      "* * * * \n",
      "* * * * * \n",
      "* * * * * * \n"
     ]
    }
   ],
   "source": [
    "for x in range(6):\n",
    "    for y in range(x+1):\n",
    "        print(\"*\",end=\" \")\n",
    "    print( )"
   ]
  },
  {
   "cell_type": "code",
   "execution_count": 3,
   "metadata": {},
   "outputs": [
    {
     "name": "stdout",
     "output_type": "stream",
     "text": [
      "* \n",
      "* * \n",
      "* * * \n",
      "* * * * \n",
      "* * * * * \n",
      "* * * * * * \n",
      "* * * * * \n",
      "* * * * \n",
      "* * * \n",
      "* * \n",
      "* \n"
     ]
    }
   ],
   "source": [
    "for x in range(6-1):\n",
    "    for y in range(x+1):\n",
    "        print(\"*\",end=\" \")\n",
    "    print( )\n",
    "    \n",
    "for x in range(6):\n",
    "    for y in range(x,6):\n",
    "        print(\"*\",end=\" \")\n",
    "    print( )"
   ]
  },
  {
   "cell_type": "code",
   "execution_count": 4,
   "metadata": {},
   "outputs": [
    {
     "name": "stdout",
     "output_type": "stream",
     "text": [
      "['Neha', 'Isha', 'Aaru', 'Dev', 'Kunal', 'Sarthk']\n"
     ]
    }
   ],
   "source": [
    "# List\n",
    "\n",
    "# Insert\n",
    "ab=[\"Neha\",\"Aaru\",\"Dev\",\"Kunal\",\"Sarthk\"]\n",
    "ab.insert(1,\"Isha\")\n",
    "print(ab)"
   ]
  },
  {
   "cell_type": "code",
   "execution_count": 5,
   "metadata": {},
   "outputs": [
    {
     "name": "stdout",
     "output_type": "stream",
     "text": [
      "5\n"
     ]
    }
   ],
   "source": [
    "# Lenght\n",
    "ab=[\"Neha\",\"Aaru\",\"Dev\",\"Kunal\",\"Sarthk\"]\n",
    "print(len(ab))"
   ]
  },
  {
   "cell_type": "code",
   "execution_count": 6,
   "metadata": {},
   "outputs": [
    {
     "name": "stdout",
     "output_type": "stream",
     "text": [
      "['Neha', 'Aaru', 'Dev', 'Kunal', 'Sarthk', 'Sunita']\n"
     ]
    }
   ],
   "source": [
    "# Append\n",
    "ab=[\"Neha\",\"Aaru\",\"Dev\",\"Kunal\",\"Sarthk\"]\n",
    "ab.append(\"Sunita\")\n",
    "print(ab)"
   ]
  },
  {
   "cell_type": "code",
   "execution_count": 7,
   "metadata": {},
   "outputs": [
    {
     "name": "stdout",
     "output_type": "stream",
     "text": [
      "['Neha', 'Aaru', 'Dev', 'Kunal']\n"
     ]
    }
   ],
   "source": [
    "# Pop\n",
    "ab=[\"Neha\",\"Aaru\",\"Dev\",\"Kunal\",\"Sarthk\"]\n",
    "ab.pop()\n",
    "print(ab)"
   ]
  },
  {
   "cell_type": "code",
   "execution_count": 8,
   "metadata": {},
   "outputs": [
    {
     "name": "stdout",
     "output_type": "stream",
     "text": [
      "['Neha', 'Aaru', 'Dev', 'Kunal', 'Sarthk', 'Mahesh', 'Surya', 'Shreya', 'Sakshi']\n"
     ]
    }
   ],
   "source": [
    "# concatenate\n",
    "ab=[\"Neha\",\"Aaru\",\"Dev\",\"Kunal\",\"Sarthk\"]\n",
    "AA=[\"Mahesh\",\"Surya\",\"Shreya\",\"Sakshi\"]\n",
    "at=ab+AA\n",
    "print(at)"
   ]
  },
  {
   "cell_type": "code",
   "execution_count": 9,
   "metadata": {},
   "outputs": [
    {
     "name": "stdout",
     "output_type": "stream",
     "text": [
      "4\n"
     ]
    }
   ],
   "source": [
    "# Tuple\n",
    "\n",
    "AA=(\"Mahesh\",\"Surya\",\"Shreya\",\"Sakshi\")\n",
    "print(len(AA))\n"
   ]
  },
  {
   "cell_type": "code",
   "execution_count": 10,
   "metadata": {},
   "outputs": [
    {
     "name": "stdout",
     "output_type": "stream",
     "text": [
      "('Neha', 'Aaru', 'Dev', 'Kunal', 'Sarthk', 'Mahesh', 'Surya', 'Shreya', 'Sakshi')\n"
     ]
    }
   ],
   "source": [
    "# Concatenate\n",
    "ab=(\"Neha\",\"Aaru\",\"Dev\",\"Kunal\",\"Sarthk\")\n",
    "AA=(\"Mahesh\",\"Surya\",\"Shreya\",\"Sakshi\")\n",
    "F=ab+AA\n",
    "print(F)\n"
   ]
  },
  {
   "cell_type": "code",
   "execution_count": 11,
   "metadata": {},
   "outputs": [
    {
     "name": "stdout",
     "output_type": "stream",
     "text": [
      "('Mahesh', 'Surya', 'Shreya', 'Sakshi', 'Mahesh', 'Surya', 'Shreya', 'Sakshi')\n"
     ]
    }
   ],
   "source": [
    "AA=(\"Mahesh\",\"Surya\",\"Shreya\",\"Sakshi\")\n",
    "D=AA*2\n",
    "print(D)"
   ]
  },
  {
   "cell_type": "code",
   "execution_count": 20,
   "metadata": {},
   "outputs": [
    {
     "name": "stdout",
     "output_type": "stream",
     "text": [
      "5\n"
     ]
    }
   ],
   "source": [
    "# Set\n",
    "\n",
    "at={\"Neha\",\"Aaru\",\"Dev\",\"Kunal\",\"Sarthk\"}\n",
    "print(len(at))"
   ]
  },
  {
   "cell_type": "code",
   "execution_count": 21,
   "metadata": {},
   "outputs": [
    {
     "name": "stdout",
     "output_type": "stream",
     "text": [
      "{'Neha', 'Sarthk', 'Mahi', 'Aaru', 'Kunal', 'Dev'}\n"
     ]
    }
   ],
   "source": [
    "# Add\n",
    "at={\"Neha\",\"Aaru\",\"Dev\",\"Kunal\",\"Sarthk\"}\n",
    "at.add(\"Mahi\")\n",
    "print(at)"
   ]
  },
  {
   "cell_type": "code",
   "execution_count": 31,
   "metadata": {},
   "outputs": [
    {
     "name": "stdout",
     "output_type": "stream",
     "text": [
      "{'Neha', 'Sarthk', 'Aaru', 'Kunal'}\n"
     ]
    }
   ],
   "source": [
    "# Remove\n",
    "\n",
    "name= {\"Neha\",\"Aaru\",\"Dev\",\"Kunal\",\"Sarthk\"}\n",
    "name.remove(\"Dev\")\n",
    "print(name)"
   ]
  },
  {
   "cell_type": "code",
   "execution_count": 32,
   "metadata": {},
   "outputs": [
    {
     "name": "stdout",
     "output_type": "stream",
     "text": [
      "{'Sarthk', 'Aaru', 'Kunal', 'Dev'}\n"
     ]
    }
   ],
   "source": [
    "# Discard\n",
    "\n",
    "name= {\"Neha\",\"Aaru\",\"Dev\",\"Kunal\",\"Sarthk\"}\n",
    "name.discard(\"Neha\")\n",
    "print(name)"
   ]
  },
  {
   "cell_type": "code",
   "execution_count": 23,
   "metadata": {},
   "outputs": [
    {
     "name": "stdout",
     "output_type": "stream",
     "text": [
      "{'Sakshi', 'Neha', 'Mahesh', 'Sarthk', 'Shreya', 'Aaru', 'Kunal', 'Dev', 'Surya'}\n"
     ]
    }
   ],
   "source": [
    "# Concatenate\n",
    "\n",
    "at={\"Neha\",\"Aaru\",\"Dev\",\"Kunal\",\"Sarthk\"}\n",
    "AD={\"Mahesh\",\"Surya\",\"Shreya\",\"Sakshi\"}\n",
    "B=at.union(AD)\n",
    "print(B)"
   ]
  },
  {
   "cell_type": "code",
   "execution_count": 24,
   "metadata": {},
   "outputs": [
    {
     "name": "stdout",
     "output_type": "stream",
     "text": [
      "{'Boys': 'Amit', 'Girls': 'Pooja', 'City': 'Pune', 'Pin Code': 1234}\n"
     ]
    }
   ],
   "source": [
    "# Dictionary\n",
    "\n",
    "name={\"Boys\":\"Amit\",\n",
    "      \"Girls\":\"Pooja\",\n",
    "      \"City\":\"Pune\",\n",
    "      \"Pin Code\":1234}\n",
    "\n",
    "print(name)"
   ]
  },
  {
   "cell_type": "code",
   "execution_count": 25,
   "metadata": {},
   "outputs": [
    {
     "name": "stdout",
     "output_type": "stream",
     "text": [
      "{'Boys': 'Amit', 'Girls': 'Pooja', 'City': 'Pune', 'Pin Code': 1234}\n",
      "{'Boys': 'Amit', 'Girls': 'Pooja', 'City': 'Pune', 'Pin Code': 1234, 'Colour': 'Red'}\n"
     ]
    }
   ],
   "source": [
    "name={\"Boys\":\"Amit\",\n",
    "      \"Girls\":\"Pooja\",\n",
    "      \"City\":\"Pune\",\n",
    "      \"Pin Code\":1234}\n",
    "\n",
    "print(name)\n",
    "\n",
    "name[\"Colour\"]=\"Red\"\n",
    "\n",
    "print(name)"
   ]
  },
  {
   "cell_type": "code",
   "execution_count": 26,
   "metadata": {},
   "outputs": [
    {
     "name": "stdout",
     "output_type": "stream",
     "text": [
      "{'Boys': 'Amit', 'Girls': 'Pooja', 'City': 'Pune', 'Pin Code': 1234}\n"
     ]
    }
   ],
   "source": [
    "name={\"Boys\":\"Amit\",\n",
    "      \"Girls\":\"Pooja\",\n",
    "      \"City\":\"Pune\",\n",
    "      \"Pin Code\":1234}\n",
    "\n",
    "print(name)"
   ]
  },
  {
   "cell_type": "code",
   "execution_count": 27,
   "metadata": {},
   "outputs": [
    {
     "name": "stdout",
     "output_type": "stream",
     "text": [
      "Amit\n",
      "Pooja\n",
      "Pune\n",
      "1234\n"
     ]
    }
   ],
   "source": [
    "for x in name.values():\n",
    "    print(x)"
   ]
  },
  {
   "cell_type": "code",
   "execution_count": 28,
   "metadata": {},
   "outputs": [
    {
     "name": "stdout",
     "output_type": "stream",
     "text": [
      "Boys\n",
      "Girls\n",
      "City\n",
      "Pin Code\n"
     ]
    }
   ],
   "source": [
    "for x in name.keys():\n",
    "    print(x)"
   ]
  },
  {
   "cell_type": "code",
   "execution_count": 29,
   "metadata": {},
   "outputs": [
    {
     "name": "stdout",
     "output_type": "stream",
     "text": [
      "Boys Amit\n",
      "Girls Pooja\n",
      "City Pune\n",
      "Pin Code 1234\n"
     ]
    }
   ],
   "source": [
    "for x,y in name.items():\n",
    "    print(x,y)"
   ]
  },
  {
   "cell_type": "code",
   "execution_count": 30,
   "metadata": {},
   "outputs": [
    {
     "data": {
      "text/plain": [
       "'Pooja'"
      ]
     },
     "execution_count": 30,
     "metadata": {},
     "output_type": "execute_result"
    }
   ],
   "source": [
    "name[\"Girls\"]"
   ]
  },
  {
   "cell_type": "code",
   "execution_count": 33,
   "metadata": {},
   "outputs": [
    {
     "name": "stdout",
     "output_type": "stream",
     "text": [
      "Enter the name...nik\n",
      "Enter the num...6548745\n",
      "Enter the city name....pune\n",
      "My name is... nik My num is.... 6548745 My city name is.... pune\n",
      "-----------------------------------------------------\n",
      "Welcome to mumbai....\n",
      "-------------------------------------\n",
      "Hello\n",
      "Hello\n",
      "Hello\n",
      "Hello\n",
      "[3]\n"
     ]
    }
   ],
   "source": [
    "class info:\n",
    "    def __init__(self,name,num,city):\n",
    "        self.name=name\n",
    "        self.num=num\n",
    "        self.city=city\n",
    "        print(\"My name is...\",self.name,\"My num is....\",self.num,\"My city name is....\",self.city)\n",
    "        print(\"-----------------------------------------------------\")\n",
    "    \n",
    "    def per(self):\n",
    "        k=[\"Pune\",\"Chennai\",\"Hyderabad\",\"Mumbai\"]\n",
    "        for p in k:\n",
    "            if p==\"Mumbai\":\n",
    "                print(\"Welcome to mumbai....\")\n",
    "            \n",
    "        print(\"-------------------------------------\")\n",
    "        \n",
    "    \n",
    "    def opera(self):\n",
    "        x1=[]\n",
    "        for n in range(4):\n",
    "            print(\"Hello\")\n",
    "            \n",
    "        x1.append(n)\n",
    "        print(x1)\n",
    "        \n",
    "        \n",
    "a=input(\"Enter the name...\")\n",
    "b=int(input(\"Enter the num...\"))\n",
    "c=input(\"Enter the city name....\")\n",
    "\n",
    "\n",
    "o=info(a,b,c)\n",
    "o.per()\n",
    "o.opera()"
   ]
  },
  {
   "cell_type": "code",
   "execution_count": 18,
   "metadata": {},
   "outputs": [
    {
     "name": "stdout",
     "output_type": "stream",
     "text": [
      "<class 'tuple'>\n",
      "I am dev...\n",
      "*********************************\n",
      "Enter the marks : 89\n",
      "Enter the marks : 75\n",
      "Enter the marks : 63\n",
      "Enter the marks : 88\n",
      "Enter the marks : 65\n",
      "[89, 75, 63, 88, 65]\n",
      "*******************************************\n",
      "<class 'set'>\n",
      "Welcome to vita...\n"
     ]
    }
   ],
   "source": [
    "mark=[]\n",
    "def abc():\n",
    "    name=(\"Neha\",\"Aaru\",\"Dev\",\"Kunal\",\"Sarthk\")\n",
    "    print(type(name))\n",
    "    for x in name:\n",
    "        if x==\"Dev\":\n",
    "            print(\"I am dev...\")\n",
    "            print(\"*********************************\")\n",
    "            return name\n",
    "def mar():\n",
    "    ab=abc()\n",
    "    for y in ab:\n",
    "        if y==\"Neha\":\n",
    "            for i in range(5):\n",
    "                marks=int(input(\"Enter the marks : \"))\n",
    "                mark.append(marks)\n",
    "                \n",
    "                \n",
    "            print(mark)\n",
    "            print(\"*******************************************\")\n",
    "            return mark\n",
    "            \n",
    "def city():\n",
    "    an=mar()\n",
    "    citys={\"Sangli\",\"Pune\",\"Vita\",\"Kolhapur\"}\n",
    "    print(type(citys))\n",
    "    for j in citys:\n",
    "        if j==\"Vita\":\n",
    "            print(\"Welcome to vita...\")\n",
    "    \n",
    "            \n",
    "            \n",
    "\n",
    "            \n",
    "city()"
   ]
  }
 ],
 "metadata": {
  "kernelspec": {
   "display_name": "Python 3",
   "language": "python",
   "name": "python3"
  },
  "language_info": {
   "codemirror_mode": {
    "name": "ipython",
    "version": 3
   },
   "file_extension": ".py",
   "mimetype": "text/x-python",
   "name": "python",
   "nbconvert_exporter": "python",
   "pygments_lexer": "ipython3",
   "version": "3.8.5"
  }
 },
 "nbformat": 4,
 "nbformat_minor": 4
}
