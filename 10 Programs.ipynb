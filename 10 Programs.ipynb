{
 "cells": [
  {
   "cell_type": "code",
   "execution_count": 8,
   "metadata": {},
   "outputs": [
    {
     "name": "stdout",
     "output_type": "stream",
     "text": [
      "2\n",
      "4\n",
      "6\n",
      "8\n",
      "10\n",
      "12\n",
      "14\n",
      "16\n",
      "18\n",
      "20\n"
     ]
    }
   ],
   "source": [
    "# First 10 Even numbers:\n",
    "\n",
    "num=2\n",
    "while num<=20:\n",
    "    print(num)\n",
    "    num=num+2"
   ]
  },
  {
   "cell_type": "code",
   "execution_count": 3,
   "metadata": {},
   "outputs": [
    {
     "name": "stdout",
     "output_type": "stream",
     "text": [
      "195\n"
     ]
    }
   ],
   "source": [
    "x=lambda a,b,c:a+b+c\n",
    "print(x(65,98,32))"
   ]
  },
  {
   "cell_type": "code",
   "execution_count": 1,
   "metadata": {},
   "outputs": [
    {
     "name": "stdout",
     "output_type": "stream",
     "text": [
      "Enter the value: 56\n",
      "Enter the value: 60\n",
      "its not correct.....\n",
      "________________________________\n",
      "Enter the value: 50\n",
      "Enter the value: 89\n",
      "its not correct.....\n",
      "________________________________\n",
      "Enter the value: 50\n",
      "Enter the value: 60\n",
      "Its correct...\n",
      "________________________________\n"
     ]
    }
   ],
   "source": [
    "for x in range(3):\n",
    "    a=int(input(\"Enter the value: \"))\n",
    "    b=int(input(\"Enter the value: \"))\n",
    "    if a==50 and b==60:\n",
    "        print(\"Its correct...\")\n",
    "    else:\n",
    "        print(\"its not correct.....\")\n",
    "    print(\"________________________________\")"
   ]
  },
  {
   "cell_type": "code",
   "execution_count": 2,
   "metadata": {},
   "outputs": [
    {
     "name": "stdout",
     "output_type": "stream",
     "text": [
      "Enter the number:2\n",
      "-------------------------\n",
      "Enter the b value:5\n",
      "Enter the h value:32\n",
      "80.0\n",
      "________________________________________\n",
      "Enter the b value:65\n",
      "Enter the h value:2\n",
      "65.0\n",
      "________________________________________\n"
     ]
    }
   ],
   "source": [
    "## Area of Triangle 1/2*(b*h)\n",
    "\n",
    "n=int(input(\"Enter the number:\"))\n",
    "print(\"-------------------------\")\n",
    "for x in range(n):\n",
    "    b = int(input(\"Enter the b value:\"))\n",
    "    h = int(input(\"Enter the h value:\"))\n",
    "    area_of_triangle = 1/2*(b*h)\n",
    "    print(1/2*(b*h))\n",
    "    print(\"________________________________________\")"
   ]
  },
  {
   "cell_type": "code",
   "execution_count": 2,
   "metadata": {},
   "outputs": [
    {
     "name": "stdout",
     "output_type": "stream",
     "text": [
      "[4, 8, 12]\n"
     ]
    }
   ],
   "source": [
    "a=[2,4,6]\n",
    "def sum(n):\n",
    "    return n*2\n",
    "print(list(map(sum,a)))"
   ]
  },
  {
   "cell_type": "code",
   "execution_count": 4,
   "metadata": {},
   "outputs": [
    {
     "name": "stdout",
     "output_type": "stream",
     "text": [
      "Enter the name: Nikita\n",
      "Enter the number: 986534721\n",
      "Enter the email_id: anikita@134\n",
      "Name: Nikita __ Number: 986534721 ___ Email_id: nik@12\n"
     ]
    }
   ],
   "source": [
    "class person:\n",
    "    def xyz(self,a,b,c=\"nik@12\"):\n",
    "        print(\"Name:\",a,\"__\",\"Number:\",b,\"___\",\"Email_id:\",c)\n",
    "a=input(\"Enter the name: \")\n",
    "b=int(input(\"Enter the number: \"))\n",
    "c=input(\"Enter the email_id: \")\n",
    "  \n",
    "o=person()\n",
    "o.xyz(a,b)"
   ]
  },
  {
   "cell_type": "code",
   "execution_count": 7,
   "metadata": {},
   "outputs": [
    {
     "name": "stdout",
     "output_type": "stream",
     "text": [
      "Enter a 1st no: 56\n",
      "Enter a 2nd no: 65\n",
      "Enter a 3rd no: 82\n",
      "c is greater....\n"
     ]
    }
   ],
   "source": [
    "a=int(input(\"Enter a 1st no: \"))\n",
    "b=int(input(\"Enter a 2nd no: \"))\n",
    "c=int(input(\"Enter a 3rd no: \"))\n",
    "def opration(a,b,c):\n",
    "    if a>b:\n",
    "        print(\"a is greater...\")\n",
    "    elif b>c:\n",
    "        print(\"b is greater....\")\n",
    "    else:\n",
    "        print(\"c is greater....\")\n",
    "opration(a,b,c)"
   ]
  },
  {
   "cell_type": "code",
   "execution_count": 6,
   "metadata": {},
   "outputs": [
    {
     "name": "stdout",
     "output_type": "stream",
     "text": [
      "Nik\n",
      "Neha\n",
      "Diksha\n",
      "Arohi\n",
      "Ira\n"
     ]
    }
   ],
   "source": [
    "def xyz(girls):\n",
    "    for x in girls:\n",
    "        print(x)\n",
    "Names=[\"Nik\",\"Neha\",\"Diksha\",\"Arohi\",\"Ira\"]\n",
    "xyz(Names)"
   ]
  },
  {
   "cell_type": "code",
   "execution_count": 4,
   "metadata": {},
   "outputs": [
    {
     "name": "stdout",
     "output_type": "stream",
     "text": [
      "Enter the value of m: 2\n",
      "_________________________________\n",
      "Entre the value of A:65\n",
      "Enter the value of B:45\n",
      "Addition is:  110\n",
      "_______________________________\n",
      "Multiplication is:  220\n",
      "_________________________________\n",
      "Enter the value of a:65\n",
      "Enter the value of b:12\n",
      "Substraction is:  53\n",
      "______________________________________________\n"
     ]
    }
   ],
   "source": [
    "def add():\n",
    "    a=int(input(\"Entre the value of A:\"))\n",
    "    b=int(input(\"Enter the value of B:\"))\n",
    "    print(\"Addition is: \",a+b)\n",
    "    return a+b\n",
    "\n",
    "def mul(m):\n",
    "    n=add()\n",
    "    print(\"_______________________________\")\n",
    "    c=n*m\n",
    "    print(\"Multiplication is: \",c)\n",
    "    return c\n",
    "\n",
    "def sub():\n",
    "    m=int(input(\"Enter the value of m: \"))\n",
    "    print(\"_________________________________\")\n",
    "    d=mul(m)\n",
    "    print(\"_________________________________\")\n",
    "    a=int(input(\"Enter the value of a:\"))\n",
    "    b=int(input(\"Enter the value of b:\"))\n",
    "    print(\"Substraction is: \",a-b)\n",
    "    \n",
    "sub()\n",
    "print(\"___________________________________\")\n"
   ]
  },
  {
   "cell_type": "code",
   "execution_count": 1,
   "metadata": {},
   "outputs": [
    {
     "name": "stdout",
     "output_type": "stream",
     "text": [
      "Enter the N value:2\n",
      "________________________________\n",
      "Enter the name:Nikita\n",
      "Enter the Email_id:nikita@123\n",
      "Enter the city name:Pune\n",
      "Enter the Branch:BCA\n",
      "Enter the contact_no:654852216\n",
      "Name: Nikita ____ Email_id: nikita@123 ____ City: Pune ___ Branch: BCA ___ contact_no: 654852216\n",
      "****************************************************************************************************\n",
      "Enter the name:Neha\n",
      "Enter the Email_id:neha@5466\n",
      "Enter the city name:Pune\n",
      "Enter the Branch:Bca\n",
      "Enter the contact_no:9864723517\n",
      "Name: Neha ____ Email_id: neha@5466 ____ City: Pune ___ Branch: Bca ___ contact_no: 9864723517\n",
      "****************************************************************************************************\n"
     ]
    }
   ],
   "source": [
    "n = int(input(\"Enter the N value:\"))\n",
    "print(\"________________________________\")\n",
    "for x in range(n):\n",
    "    def Regi_form():\n",
    "        Name = input(\"Enter the name:\")\n",
    "        Email_id = input(\"Enter the Email_id:\")\n",
    "        City = input(\"Enter the city name:\")\n",
    "        Branch = input(\"Enter the Branch:\")\n",
    "        contact= int(input(\"Enter the contact_no:\"))\n",
    "        print(\"Name:\",Name,\"____\",\"Email_id:\",Email_id,\"____\",\"City:\",City,\"___\",\"Branch:\",Branch,\"___\",\"contact_no:\",contact)\n",
    "        print(\"****************************************************************************************************\")\n",
    "    \n",
    "    Regi_form()  "
   ]
  },
  {
   "cell_type": "code",
   "execution_count": null,
   "metadata": {},
   "outputs": [],
   "source": []
  }
 ],
 "metadata": {
  "kernelspec": {
   "display_name": "Python 3",
   "language": "python",
   "name": "python3"
  },
  "language_info": {
   "codemirror_mode": {
    "name": "ipython",
    "version": 3
   },
   "file_extension": ".py",
   "mimetype": "text/x-python",
   "name": "python",
   "nbconvert_exporter": "python",
   "pygments_lexer": "ipython3",
   "version": "3.8.5"
  }
 },
 "nbformat": 4,
 "nbformat_minor": 4
}
