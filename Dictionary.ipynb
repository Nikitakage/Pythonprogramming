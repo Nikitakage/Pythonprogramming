{
 "cells": [
  {
   "cell_type": "code",
   "execution_count": 1,
   "metadata": {},
   "outputs": [],
   "source": [
    "# It is a collection of key & value pairs\n",
    "# This is not allows keys as duplicate_____but values you can add duplicate.\n",
    "# Ordered and Indexed\n",
    "# a={keys : values}"
   ]
  },
  {
   "cell_type": "code",
   "execution_count": 2,
   "metadata": {},
   "outputs": [
    {
     "name": "stdout",
     "output_type": "stream",
     "text": [
      "<class 'dict'>\n",
      "<class 'dict'>\n"
     ]
    }
   ],
   "source": [
    "name= {}\n",
    "name1=dict()\n",
    "print(type(name))\n",
    "print(type(name1))"
   ]
  },
  {
   "cell_type": "code",
   "execution_count": 3,
   "metadata": {},
   "outputs": [
    {
     "name": "stdout",
     "output_type": "stream",
     "text": [
      "{'Boys': 'Amit', 'Girls': 'Pooja', 'City': 'Pune', 'Pin Code': 1234}\n"
     ]
    }
   ],
   "source": [
    "name={\"Boys\":\"Amit\",\n",
    "      \"Girls\":\"Pooja\",\n",
    "      \"City\":\"Pune\",\n",
    "      \"Pin Code\":1234}\n",
    "\n",
    "print(name)"
   ]
  },
  {
   "cell_type": "code",
   "execution_count": 4,
   "metadata": {},
   "outputs": [
    {
     "data": {
      "text/plain": [
       "'Pooja'"
      ]
     },
     "execution_count": 4,
     "metadata": {},
     "output_type": "execute_result"
    }
   ],
   "source": [
    "name[\"Girls\"]"
   ]
  },
  {
   "cell_type": "code",
   "execution_count": 5,
   "metadata": {},
   "outputs": [
    {
     "name": "stdout",
     "output_type": "stream",
     "text": [
      "4\n"
     ]
    }
   ],
   "source": [
    "print(len(name))"
   ]
  },
  {
   "cell_type": "code",
   "execution_count": 6,
   "metadata": {},
   "outputs": [
    {
     "name": "stdout",
     "output_type": "stream",
     "text": [
      "{'Boys': 'Amit', 'Girls': 'Pooja', 'City': 'Pune', 'Pin Code': 1234, 'colour': ['Pink', 'Red', 'voilt', 'Orange', 'Black']}\n"
     ]
    }
   ],
   "source": [
    "name={\"Boys\":\"Amit\",\n",
    "      \"Girls\":\"Pooja\",\n",
    "      \"City\":\"Pune\",\n",
    "      \"Pin Code\":1234,\n",
    "      \"colour\":[\"Pink\",\"Red\",\"voilt\",\"Orange\",\"Black\"] \n",
    "     }\n",
    "\n",
    "print(name)"
   ]
  },
  {
   "cell_type": "code",
   "execution_count": 7,
   "metadata": {},
   "outputs": [
    {
     "name": "stdout",
     "output_type": "stream",
     "text": [
      "{'Boys': 'Amit', 'Girls': 'Pooja', 'City': 'Pune', 'Pin Code': 1234, 'colour': ['Pink', 'Red', 'voilt', 'Orange', 'Black']}\n",
      "-----------------------------------------------------------------\n",
      "dict_keys(['Boys', 'Girls', 'City', 'Pin Code', 'colour'])\n"
     ]
    }
   ],
   "source": [
    "# Only keys are access\n",
    "\n",
    "name={\"Boys\":\"Amit\",\n",
    "      \"Girls\":\"Pooja\",\n",
    "      \"City\":\"Pune\",\n",
    "      \"Pin Code\":1234,\n",
    "      \"colour\":[\"Pink\",\"Red\",\"voilt\",\"Orange\",\"Black\"] \n",
    "     }\n",
    "\n",
    "print(name)\n",
    "print(\"-----------------------------------------------------------------\")\n",
    "x = name.keys()\n",
    "print(x)"
   ]
  },
  {
   "cell_type": "code",
   "execution_count": 8,
   "metadata": {},
   "outputs": [
    {
     "name": "stdout",
     "output_type": "stream",
     "text": [
      "{'Boys': 'Amit', 'Girls': 'Pooja', 'City': 'Pune', 'Pin Code': 1234, 'colour': ['Pink', 'Red', 'voilt', 'Orange', 'Black']}\n",
      "-------------------------------------------------------------------------------------------\n",
      "dict_values(['Amit', 'Pooja', 'Pune', 1234, ['Pink', 'Red', 'voilt', 'Orange', 'Black']])\n"
     ]
    }
   ],
   "source": [
    "# Only values are accessed\n",
    "\n",
    "name={\"Boys\":\"Amit\",\n",
    "      \"Girls\":\"Pooja\",\n",
    "      \"City\":\"Pune\",\n",
    "      \"Pin Code\":1234,\n",
    "      \"colour\":[\"Pink\",\"Red\",\"voilt\",\"Orange\",\"Black\"] \n",
    "     }\n",
    "\n",
    "print(name)\n",
    "print(\"-------------------------------------------------------------------------------------------\")\n",
    "x=name.values()\n",
    "print(x)"
   ]
  },
  {
   "cell_type": "code",
   "execution_count": 9,
   "metadata": {},
   "outputs": [
    {
     "name": "stdout",
     "output_type": "stream",
     "text": [
      "{'Boys': 'Amit', 'Girls': 'Pooja', 'City': 'Pune', 'Pin Code': 1234, 'colour': ['Pink', 'Red', 'voilt', 'Orange', 'Black']}\n",
      "----------------------------------------------------------------------------------------------------------------------\n",
      "dict_items([('Boys', 'Amit'), ('Girls', 'Pooja'), ('City', 'Pune'), ('Pin Code', 1234), ('colour', ['Pink', 'Red', 'voilt', 'Orange', 'Black'])])\n"
     ]
    }
   ],
   "source": [
    "# Keys and values are spearate accessed\n",
    "\n",
    "name={\"Boys\":\"Amit\",\n",
    "      \"Girls\":\"Pooja\",\n",
    "      \"City\":\"Pune\",\n",
    "      \"Pin Code\":1234,\n",
    "      \"colour\":[\"Pink\",\"Red\",\"voilt\",\"Orange\",\"Black\"] \n",
    "     }\n",
    "\n",
    "print(name)\n",
    "print(\"----------------------------------------------------------------------------------------------------------------------\")\n",
    "x=name.items()\n",
    "print(x)"
   ]
  },
  {
   "cell_type": "code",
   "execution_count": 10,
   "metadata": {},
   "outputs": [
    {
     "name": "stdout",
     "output_type": "stream",
     "text": [
      "{'Boys': 'Amit', 'Girls': 'Pooja', 'City': 'Pune', 'Pin Code': 1234}\n",
      "------------------------------------------------------------------------------------------\n",
      "{'Boys': 'Amit', 'Girls': 'Pooja', 'City': 'Pune', 'Pin Code': 1234, 'colour': 'Black'}\n"
     ]
    }
   ],
   "source": [
    "# Add key and value\n",
    "\n",
    "name={\"Boys\":\"Amit\",\n",
    "      \"Girls\":\"Pooja\",\n",
    "      \"City\":\"Pune\",\n",
    "      \"Pin Code\":1234}\n",
    "\n",
    "print(name)\n",
    "print(\"------------------------------------------------------------------------------------------\")\n",
    "name[\"colour\"]= \"Black\"\n",
    "print(name)"
   ]
  },
  {
   "cell_type": "code",
   "execution_count": 11,
   "metadata": {},
   "outputs": [
    {
     "name": "stdout",
     "output_type": "stream",
     "text": [
      "{'Boys': 'Amit', 'Girls': 'Pooja', 'City': 'Pune', 'Pin Code': 1234}\n",
      "*********************\n",
      "Yes.........\n"
     ]
    }
   ],
   "source": [
    "# check\n",
    "\n",
    "name={\"Boys\":\"Amit\",\n",
    "      \"Girls\":\"Pooja\",\n",
    "      \"City\":\"Pune\",\n",
    "      \"Pin Code\":1234}\n",
    "\n",
    "print(name)\n",
    "print(\"*********************\")\n",
    "if \"City\" in name:\n",
    "    print(\"Yes.........\")\n",
    "        "
   ]
  },
  {
   "cell_type": "code",
   "execution_count": 12,
   "metadata": {},
   "outputs": [
    {
     "name": "stdout",
     "output_type": "stream",
     "text": [
      "{'Boys': 'Amit', 'Girls': 'Pooja', 'City': 'Pune', 'Pin Code': 2022}\n"
     ]
    }
   ],
   "source": [
    "# change values\n",
    "\n",
    "name={\"Boys\": \"Amit\",\n",
    "      \"Girls\": \"Pooja\",\n",
    "      \"City\": \"Pune\",\n",
    "      \"Pin Code\": 1234}\n",
    "\n",
    "name[\"Pin Code\"]= 2022\n",
    "print(name)"
   ]
  }
 ],
 "metadata": {
  "kernelspec": {
   "display_name": "Python 3",
   "language": "python",
   "name": "python3"
  },
  "language_info": {
   "codemirror_mode": {
    "name": "ipython",
    "version": 3
   },
   "file_extension": ".py",
   "mimetype": "text/x-python",
   "name": "python",
   "nbconvert_exporter": "python",
   "pygments_lexer": "ipython3",
   "version": "3.8.5"
  }
 },
 "nbformat": 4,
 "nbformat_minor": 4
}
