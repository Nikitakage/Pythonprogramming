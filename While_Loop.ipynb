{
 "cells": [
  {
   "cell_type": "code",
   "execution_count": 1,
   "metadata": {},
   "outputs": [
    {
     "name": "stdout",
     "output_type": "stream",
     "text": [
      "Hello\n",
      "Hello\n",
      "Hello\n",
      "Hello\n",
      "Hello\n",
      "Hello\n",
      "Hello\n",
      "Hello\n",
      "Hello\n"
     ]
    }
   ],
   "source": [
    "x=1\n",
    "while x<10:\n",
    "    print(\"Hello\")\n",
    "    x=x+1"
   ]
  },
  {
   "cell_type": "code",
   "execution_count": 2,
   "metadata": {},
   "outputs": [
    {
     "name": "stdout",
     "output_type": "stream",
     "text": [
      "Bye\n",
      "Bye\n",
      "Hello\n",
      "Bye\n",
      "Bye\n"
     ]
    }
   ],
   "source": [
    "x=1\n",
    "while x<=5:\n",
    "    if x==3:\n",
    "        print(\"Hello\")\n",
    "    else:\n",
    "        print(\"Bye\")\n",
    "    x=x+1"
   ]
  },
  {
   "cell_type": "code",
   "execution_count": 3,
   "metadata": {},
   "outputs": [
    {
     "name": "stdout",
     "output_type": "stream",
     "text": [
      "1\n",
      "2\n",
      "3\n",
      "4\n",
      "5\n"
     ]
    }
   ],
   "source": [
    "x2=1\n",
    "while x2<10:\n",
    "    print(x2)\n",
    "    if x2==5:\n",
    "        break\n",
    "    x2=x2+1"
   ]
  },
  {
   "cell_type": "code",
   "execution_count": 4,
   "metadata": {},
   "outputs": [
    {
     "name": "stdout",
     "output_type": "stream",
     "text": [
      "1\n",
      "2\n",
      "4\n",
      "5\n",
      "6\n"
     ]
    }
   ],
   "source": [
    "x=0\n",
    "while x<6:\n",
    "    x=x+1\n",
    "    if x==3:\n",
    "        continue\n",
    "    print(x)"
   ]
  },
  {
   "cell_type": "code",
   "execution_count": 5,
   "metadata": {},
   "outputs": [
    {
     "name": "stdout",
     "output_type": "stream",
     "text": [
      "Enter the value: 5\n",
      "The sum is 15\n"
     ]
    }
   ],
   "source": [
    "n=int(input(\"Enter the value: \"))\n",
    "sum = 0\n",
    "x = 1\n",
    "\n",
    "while x <= n:\n",
    "    sum = sum + x\n",
    "    x = x+1    \n",
    "print(\"The sum is\", sum)"
   ]
  },
  {
   "cell_type": "code",
   "execution_count": 6,
   "metadata": {},
   "outputs": [
    {
     "name": "stdout",
     "output_type": "stream",
     "text": [
      "I am Nik\n",
      "I am Nik\n",
      "I am Nik\n",
      "I am Nik\n"
     ]
    }
   ],
   "source": [
    "x=1\n",
    "while x<6:\n",
    "    if x==4:\n",
    "        for i in range(x):\n",
    "            print(\"I am Nik\")\n",
    "    x=x+1"
   ]
  },
  {
   "cell_type": "code",
   "execution_count": 7,
   "metadata": {},
   "outputs": [
    {
     "name": "stdout",
     "output_type": "stream",
     "text": [
      "2\n",
      "4\n",
      "6\n",
      "8\n",
      "10\n",
      "12\n",
      "14\n",
      "16\n",
      "18\n",
      "20\n"
     ]
    }
   ],
   "source": [
    "#First 10 Even numbers\n",
    "\n",
    "num=2\n",
    "while num<=20:\n",
    "    print(num)\n",
    "    num=num+2"
   ]
  },
  {
   "cell_type": "code",
   "execution_count": 8,
   "metadata": {},
   "outputs": [
    {
     "name": "stdout",
     "output_type": "stream",
     "text": [
      "1\n",
      "2\n",
      "3\n",
      "4\n",
      "5\n",
      "6\n",
      "7\n",
      "8\n",
      "9\n",
      "10\n"
     ]
    }
   ],
   "source": [
    "# First 10 Natural numbers\n",
    "\n",
    "num=1\n",
    "while num<=10:\n",
    "    print(num)\n",
    "    num=num+1"
   ]
  },
  {
   "cell_type": "code",
   "execution_count": 9,
   "metadata": {},
   "outputs": [
    {
     "name": "stdout",
     "output_type": "stream",
     "text": [
      "1\n",
      "3\n",
      "5\n",
      "7\n",
      "9\n",
      "11\n",
      "13\n",
      "15\n",
      "17\n",
      "19\n"
     ]
    }
   ],
   "source": [
    "# First 10 Odd numbers\n",
    "\n",
    "num=1\n",
    "while num<=20:\n",
    "    print(num)\n",
    "    num=num+2"
   ]
  },
  {
   "cell_type": "code",
   "execution_count": 10,
   "metadata": {},
   "outputs": [
    {
     "name": "stdout",
     "output_type": "stream",
     "text": [
      "0\n",
      "1\n",
      "2\n",
      "3\n",
      "4\n",
      "5\n",
      "6\n",
      "7\n",
      "8\n",
      "9\n"
     ]
    }
   ],
   "source": [
    "# First 10 Whole numbers\n",
    "\n",
    "num=0\n",
    "while num<10:\n",
    "    print(num)\n",
    "    num=num+1"
   ]
  },
  {
   "cell_type": "code",
   "execution_count": 11,
   "metadata": {},
   "outputs": [
    {
     "name": "stdout",
     "output_type": "stream",
     "text": [
      "10 9 8 7 6 5 4 3 2 1 "
     ]
    }
   ],
   "source": [
    "# Write a program to print first 10 natural number in reverse order using while loop.\n",
    "\n",
    "num=10\n",
    "while num>=1:\n",
    "    print(num,end=\" \")\n",
    "    num=num-1"
   ]
  },
  {
   "cell_type": "code",
   "execution_count": 12,
   "metadata": {},
   "outputs": [
    {
     "name": "stdout",
     "output_type": "stream",
     "text": [
      "110\n"
     ]
    }
   ],
   "source": [
    "# Write a program to print sum of first 10 Even numbers.\n",
    "\n",
    "num = 2\n",
    "sum = 0\n",
    "while num <= 20:\n",
    "    sum = sum + num\n",
    "    num= num + 2\n",
    "print(sum)"
   ]
  },
  {
   "cell_type": "code",
   "execution_count": 13,
   "metadata": {},
   "outputs": [
    {
     "name": "stdout",
     "output_type": "stream",
     "text": [
      "Numbers\t\tSquares\n",
      "1  \t\t 1\n",
      "2  \t\t 4\n",
      "3  \t\t 9\n",
      "4  \t\t 16\n",
      "5  \t\t 25\n",
      "6  \t\t 36\n",
      "7  \t\t 49\n",
      "8  \t\t 64\n",
      "9  \t\t 81\n",
      "10  \t\t 100\n"
     ]
    }
   ],
   "source": [
    "# Write a program to print first 10 integers and their squares using while loop.\n",
    "\n",
    "num=1\n",
    "print(\"Numbers\\t\\tSquares\")\n",
    "while num<=10:\n",
    "    print(num,\" \\t\\t\",num**2)\n",
    "    num=num+1"
   ]
  },
  {
   "cell_type": "code",
   "execution_count": 14,
   "metadata": {},
   "outputs": [
    {
     "name": "stdout",
     "output_type": "stream",
     "text": [
      "55\n"
     ]
    }
   ],
   "source": [
    "# Write a program to print sum of first 10 Natural numbers.\n",
    "\n",
    "num=10\n",
    "sum=0\n",
    "while num>=1:\n",
    "    sum=sum+num\n",
    "    num=num-1\n",
    "print(sum)"
   ]
  }
 ],
 "metadata": {
  "kernelspec": {
   "display_name": "Python 3",
   "language": "python",
   "name": "python3"
  },
  "language_info": {
   "codemirror_mode": {
    "name": "ipython",
    "version": 3
   },
   "file_extension": ".py",
   "mimetype": "text/x-python",
   "name": "python",
   "nbconvert_exporter": "python",
   "pygments_lexer": "ipython3",
   "version": "3.8.5"
  }
 },
 "nbformat": 4,
 "nbformat_minor": 4
}
