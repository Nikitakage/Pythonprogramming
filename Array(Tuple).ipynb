{
 "cells": [
  {
   "cell_type": "markdown",
   "metadata": {},
   "source": [
    "# Tuple"
   ]
  },
  {
   "cell_type": "code",
   "execution_count": 1,
   "metadata": {},
   "outputs": [],
   "source": [
    "# Tuple is unchangable (unmuteable) \n",
    "# Tuple allows dublicate values.\n",
    "# It is ordered and indexed.\n",
    "# Tuple defines in ()."
   ]
  },
  {
   "cell_type": "code",
   "execution_count": 2,
   "metadata": {},
   "outputs": [
    {
     "name": "stdout",
     "output_type": "stream",
     "text": [
      "<class 'tuple'>\n",
      "<class 'tuple'>\n"
     ]
    }
   ],
   "source": [
    "call = ()\n",
    "call1 =tuple()\n",
    "\n",
    "print(type(call))\n",
    "print(type(call1))"
   ]
  },
  {
   "cell_type": "code",
   "execution_count": 3,
   "metadata": {},
   "outputs": [
    {
     "name": "stdout",
     "output_type": "stream",
     "text": [
      "6\n"
     ]
    }
   ],
   "source": [
    "# Length\n",
    "\n",
    "name=(\"Neha\",\"Nikita\",\"Diksha\",\"Swaranjali\",\"Aarohi\",\"Reva\")\n",
    "print(len(name))"
   ]
  },
  {
   "cell_type": "code",
   "execution_count": 4,
   "metadata": {},
   "outputs": [
    {
     "name": "stdout",
     "output_type": "stream",
     "text": [
      "Swaranjali\n"
     ]
    }
   ],
   "source": [
    "name=(\"Neha\",\"Nikita\",\"Diksha\",\"Swaranjali\",\"Aarohi\",\"Reva\")\n",
    "ab=name[3]\n",
    "print(ab)"
   ]
  },
  {
   "cell_type": "code",
   "execution_count": 5,
   "metadata": {},
   "outputs": [
    {
     "name": "stdout",
     "output_type": "stream",
     "text": [
      "('Swaranjali', 'Aarohi', 'Reva')\n"
     ]
    }
   ],
   "source": [
    "name=(\"Neha\",\"Nikita\",\"Diksha\",\"Swaranjali\",\"Aarohi\",\"Reva\")\n",
    "ab=name[3:10]\n",
    "print(ab)"
   ]
  },
  {
   "cell_type": "code",
   "execution_count": 6,
   "metadata": {},
   "outputs": [
    {
     "name": "stdout",
     "output_type": "stream",
     "text": [
      "('Reva',)\n"
     ]
    }
   ],
   "source": [
    "name=(\"Neha\",\"Nikita\",\"Diksha\",\"Swaranjali\",\"Aarohi\",\"Reva\")\n",
    "ab=name[5:10]\n",
    "print(ab)"
   ]
  },
  {
   "cell_type": "code",
   "execution_count": 7,
   "metadata": {},
   "outputs": [
    {
     "name": "stdout",
     "output_type": "stream",
     "text": [
      "('Swaranjali', 'Aarohi', 'Reva')\n"
     ]
    }
   ],
   "source": [
    "name=(\"Neha\",\"Nikita\",\"Diksha\",\"Swaranjali\",\"Aarohi\",\"Reva\")\n",
    "ab=name[-3:10]\n",
    "print(ab)"
   ]
  },
  {
   "cell_type": "code",
   "execution_count": 8,
   "metadata": {},
   "outputs": [
    {
     "name": "stdout",
     "output_type": "stream",
     "text": [
      "('Diksha',)\n"
     ]
    }
   ],
   "source": [
    "name=(\"Neha\",\"Nikita\",\"Diksha\",\"Swaranjali\",\"Aarohi\",\"Reva\")\n",
    "ab=name[-4:3]\n",
    "print(ab)"
   ]
  },
  {
   "cell_type": "code",
   "execution_count": 9,
   "metadata": {},
   "outputs": [
    {
     "name": "stdout",
     "output_type": "stream",
     "text": [
      "()\n"
     ]
    }
   ],
   "source": [
    "name=(\"Neha\",\"Nikita\",\"Diksha\",\"Swaranjali\",\"Aarohi\",\"Reva\")\n",
    "ab=name[-5:1]\n",
    "print(ab)"
   ]
  },
  {
   "cell_type": "code",
   "execution_count": 10,
   "metadata": {},
   "outputs": [
    {
     "name": "stdout",
     "output_type": "stream",
     "text": [
      "('Neha', 'Nikita', 'Diksha', 'Swaranjali', 'Aarohi', 'Reva', 'Sangli', 'Delhi', 'Pune', 'Jaypur', 'Ichal', 'Surat', 'Nashik')\n"
     ]
    }
   ],
   "source": [
    "# Concatenate\n",
    "# It combines 2 sets.\n",
    "\n",
    "name=(\"Neha\",\"Nikita\",\"Diksha\",\"Swaranjali\",\"Aarohi\",\"Reva\")\n",
    "city=(\"Sangli\",\"Delhi\",\"Pune\",\"Jaypur\",\"Ichal\",\"Surat\",\"Nashik\")\n",
    "ab=name+city\n",
    "print(ab)"
   ]
  },
  {
   "cell_type": "code",
   "execution_count": 11,
   "metadata": {},
   "outputs": [
    {
     "name": "stdout",
     "output_type": "stream",
     "text": [
      "('Sangli', 'Delhi', 'Pune', 'Jaypur', 'Ichal', 'Surat', 'Nashik', 'Sangli', 'Delhi', 'Pune', 'Jaypur', 'Ichal', 'Surat', 'Nashik')\n"
     ]
    }
   ],
   "source": [
    "name=(\"Neha\",\"Nikita\",\"Diksha\",\"Swaranjali\",\"Aarohi\",\"Reva\")\n",
    "city=(\"Sangli\",\"Delhi\",\"Pune\",\"Jaypur\",\"Ichal\",\"Surat\",\"Nashik\")\n",
    "ab=city*2\n",
    "print(ab) "
   ]
  }
 ],
 "metadata": {
  "kernelspec": {
   "display_name": "Python 3",
   "language": "python",
   "name": "python3"
  },
  "language_info": {
   "codemirror_mode": {
    "name": "ipython",
    "version": 3
   },
   "file_extension": ".py",
   "mimetype": "text/x-python",
   "name": "python",
   "nbconvert_exporter": "python",
   "pygments_lexer": "ipython3",
   "version": "3.8.5"
  }
 },
 "nbformat": 4,
 "nbformat_minor": 4
}
