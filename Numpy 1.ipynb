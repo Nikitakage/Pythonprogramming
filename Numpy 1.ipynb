{
 "cells": [
  {
   "cell_type": "markdown",
   "metadata": {},
   "source": [
    "# Reshape Function "
   ]
  },
  {
   "cell_type": "code",
   "execution_count": 1,
   "metadata": {},
   "outputs": [],
   "source": [
    "# Reshape function is used for change the dimension of array."
   ]
  },
  {
   "cell_type": "code",
   "execution_count": 2,
   "metadata": {},
   "outputs": [
    {
     "data": {
      "text/plain": [
       "array([[65, 77],\n",
       "       [45, 67],\n",
       "       [34, 56],\n",
       "       [23, 45]])"
      ]
     },
     "execution_count": 2,
     "metadata": {},
     "output_type": "execute_result"
    }
   ],
   "source": [
    "import numpy as ac\n",
    "ar1=ac.array([65,77,45,67,34,56,23,45])\n",
    "ar1.reshape(4,2)           ##(4=Rows,2=Columns)##"
   ]
  },
  {
   "cell_type": "code",
   "execution_count": 3,
   "metadata": {},
   "outputs": [
    {
     "name": "stdout",
     "output_type": "stream",
     "text": [
      "[[[ 5  6]\n",
      "  [ 7  8]\n",
      "  [ 9  4]]\n",
      "\n",
      " [[ 5  3]\n",
      "  [34 56]\n",
      "  [23 67]]]\n"
     ]
    }
   ],
   "source": [
    "import numpy as ab\n",
    "ar3=ab.array([5,6,7,8,9,4,5,3,34,56,23,67])\n",
    "atp=ar3.reshape(2,3,2)        ##(2=Array Dimension,3=Rows,2=Columns)##     \n",
    "print(atp)"
   ]
  },
  {
   "cell_type": "code",
   "execution_count": 4,
   "metadata": {},
   "outputs": [
    {
     "name": "stdout",
     "output_type": "stream",
     "text": [
      "Array dimension is:: 1\n",
      "******************************************\n",
      "Original array::\n",
      "[54 34 67 89 12 34 45 56]\n",
      "******************************************\n",
      "After array reshape::\n",
      "[[54]\n",
      " [34]\n",
      " [67]\n",
      " [89]\n",
      " [12]\n",
      " [34]\n",
      " [45]\n",
      " [56]]\n",
      "*******************************************\n",
      "8 is a size of row && 1 is size of cloumn\n"
     ]
    }
   ],
   "source": [
    "import numpy as np\n",
    "ar1 = np.array([54,34,67,89,12,34,45,56])\n",
    "print(\"Array dimension is::\",ar1.ndim)\n",
    "print(\"******************************************\")\n",
    "print(\"Original array::\")\n",
    "print(ar1)\n",
    "print(\"******************************************\")\n",
    "print(\"After array reshape::\")\n",
    "print(ar1.reshape(8,1))\n",
    "print(\"*******************************************\")\n",
    "print(\"8 is a size of row && 1 is size of cloumn\")"
   ]
  },
  {
   "cell_type": "code",
   "execution_count": 5,
   "metadata": {},
   "outputs": [
    {
     "name": "stdout",
     "output_type": "stream",
     "text": [
      "Original array::\n",
      "[54 34 67 89 12 34 45 56]\n",
      "******************************************\n",
      "After array reshape::\n",
      "[[54 34]\n",
      " [67 89]\n",
      " [12 34]\n",
      " [45 56]]\n",
      "*******************************************\n",
      "4 is a size of row && 2 is size of cloumn\n"
     ]
    }
   ],
   "source": [
    "import numpy as np\n",
    "ar1 = np.array([54,34,67,89,12,34,45,56])\n",
    "print(\"Original array::\")\n",
    "print(ar1)\n",
    "print(\"******************************************\")\n",
    "print(\"After array reshape::\")\n",
    "print(ar1.reshape(4,2))\n",
    "print(\"*******************************************\")\n",
    "print(\"4 is a size of row && 2 is size of cloumn\")"
   ]
  },
  {
   "cell_type": "code",
   "execution_count": 6,
   "metadata": {},
   "outputs": [
    {
     "name": "stdout",
     "output_type": "stream",
     "text": [
      "ar1 dimension is:: 2\n",
      "ar2 dimension is:: 2\n",
      "------------------------------\n",
      "original ar1 :\n",
      "[[12 23 34 45]\n",
      " [56 67 78 98]]\n",
      "------------------------------\n",
      "original ar2 :\n",
      "[[32 43 65 87]\n",
      " [89 54 76 43]]\n",
      "-----------------------------\n",
      "concatenate two array ar1 & ar2 :\n",
      "[[12 23 34 45]\n",
      " [56 67 78 98]\n",
      " [32 43 65 87]\n",
      " [89 54 76 43]]\n",
      "----------------------------------\n",
      "Rehsape the conatenate array::\n",
      "[[12]\n",
      " [23]\n",
      " [34]\n",
      " [45]\n",
      " [56]\n",
      " [67]\n",
      " [78]\n",
      " [98]\n",
      " [32]\n",
      " [43]\n",
      " [65]\n",
      " [87]\n",
      " [89]\n",
      " [54]\n",
      " [76]\n",
      " [43]]\n"
     ]
    }
   ],
   "source": [
    "import numpy as np\n",
    "ar1 = np.array([[12,23,34,45],[56,67,78,98]])\n",
    "ar2 = np.array([[32,43,65,87],[89,54,76,43]])\n",
    "print(\"ar1 dimension is::\",ar1.ndim)\n",
    "print(\"ar2 dimension is::\",ar2.ndim)\n",
    "print(\"------------------------------\")\n",
    "print(\"original ar1 :\")\n",
    "print(ar1)\n",
    "print(\"------------------------------\")\n",
    "print(\"original ar2 :\")\n",
    "print(ar2)\n",
    "print(\"-----------------------------\")\n",
    "print(\"concatenate two array ar1 & ar2 :\")\n",
    "at1 = np.concatenate((ar1,ar2))\n",
    "print(at1)\n",
    "print(\"----------------------------------\")\n",
    "print(\"Rehsape the conatenate array::\")\n",
    "print(at1.reshape(16,1))\n"
   ]
  },
  {
   "cell_type": "markdown",
   "metadata": {},
   "source": [
    "# Split Function"
   ]
  },
  {
   "cell_type": "code",
   "execution_count": 7,
   "metadata": {},
   "outputs": [],
   "source": [
    "# Split function is used for one array is split into two/more array. "
   ]
  },
  {
   "cell_type": "code",
   "execution_count": 8,
   "metadata": {},
   "outputs": [
    {
     "name": "stdout",
     "output_type": "stream",
     "text": [
      "original array::\n",
      "[22 23 24 25 62 72]\n",
      "-----------------------------\n",
      "After the spliting array::\n",
      "[array([22, 23]), array([24, 25]), array([62, 72])]\n"
     ]
    }
   ],
   "source": [
    "import numpy as np\n",
    "ar2=np.array([22,23,24,25,62,72])\n",
    "print(\"original array::\")\n",
    "print(ar2)\n",
    "print(\"-----------------------------\")\n",
    "print(\"After the spliting array::\")\n",
    "ap=np.array_split(ar2,3)\n",
    "print(ap)"
   ]
  },
  {
   "cell_type": "code",
   "execution_count": 9,
   "metadata": {},
   "outputs": [
    {
     "name": "stdout",
     "output_type": "stream",
     "text": [
      "original array::\n",
      "[ 9  8  7  6 10 11 12 13]\n",
      "------------------------------\n",
      "array dimension:: 1\n",
      "-----------------------------\n",
      "After spliting array::\n",
      "[array([9]), array([8]), array([7]), array([6]), array([10]), array([11]), array([12]), array([13])]\n"
     ]
    }
   ],
   "source": [
    "import numpy as np\n",
    "ar1 = np.array([9,8,7,6,10,11,12,13])\n",
    "print(\"original array::\")\n",
    "print(ar1)\n",
    "print(\"------------------------------\")\n",
    "print(\"array dimension::\",ar1.ndim)\n",
    "print(\"-----------------------------\")\n",
    "print(\"After spliting array::\")\n",
    "arr = np.array_split(ar1,8)                # 8=array spliting size\n",
    "print(arr)"
   ]
  },
  {
   "cell_type": "code",
   "execution_count": 10,
   "metadata": {},
   "outputs": [
    {
     "name": "stdout",
     "output_type": "stream",
     "text": [
      "original ar1 ::\n",
      "[[23 21 12 43]\n",
      " [97 34 54 65]]\n",
      "-------------------------------\n",
      "ar1 dimension is :: 2\n",
      "-------------------------------\n",
      "after spliting ar1 ::\n",
      "[array([[23, 21, 12, 43]]), array([[97, 34, 54, 65]]), array([], shape=(0, 4), dtype=int32), array([], shape=(0, 4), dtype=int32), array([], shape=(0, 4), dtype=int32)]\n",
      "***************************************\n",
      "***************************************\n",
      "original ar2 ::\n",
      "[[87 32 23 12]\n",
      " [66 45 32 78]]\n",
      "-------------------------------\n",
      "ar1 dimension is :: 2\n",
      "-------------------------------\n",
      "after spliting ar2 ::\n"
     ]
    },
    {
     "data": {
      "text/plain": [
       "[array([[87, 32, 23, 12]]),\n",
       " array([[66, 45, 32, 78]]),\n",
       " array([], shape=(0, 4), dtype=int32),\n",
       " array([], shape=(0, 4), dtype=int32),\n",
       " array([], shape=(0, 4), dtype=int32)]"
      ]
     },
     "execution_count": 10,
     "metadata": {},
     "output_type": "execute_result"
    }
   ],
   "source": [
    "import numpy as np\n",
    "ar1 = np.array([[23,21,12,43],[97,34,54,65]])\n",
    "ar2 = np.array([[87,32,23,12],[66,45,32,78]])\n",
    "print(\"original ar1 ::\")\n",
    "print(ar1)\n",
    "print(\"-------------------------------\")\n",
    "print(\"ar1 dimension is ::\",ar1.ndim)\n",
    "print(\"-------------------------------\")\n",
    "print(\"after spliting ar1 ::\")\n",
    "arr1 = np.array_split(ar1,5)\n",
    "print(arr1)\n",
    "print(\"***************************************\")\n",
    "print(\"***************************************\")\n",
    "\n",
    "print(\"original ar2 ::\")\n",
    "print(ar2)\n",
    "print(\"-------------------------------\")\n",
    "print(\"ar1 dimension is ::\",ar2.ndim)\n",
    "print(\"-------------------------------\")\n",
    "print(\"after spliting ar2 ::\")\n",
    "arr2 = np.array_split(ar2,5)\n",
    "arr2"
   ]
  },
  {
   "cell_type": "markdown",
   "metadata": {},
   "source": [
    "# Where function"
   ]
  },
  {
   "cell_type": "code",
   "execution_count": 11,
   "metadata": {},
   "outputs": [],
   "source": [
    "# where function is used to indicate array position"
   ]
  },
  {
   "cell_type": "code",
   "execution_count": 12,
   "metadata": {},
   "outputs": [
    {
     "name": "stdout",
     "output_type": "stream",
     "text": [
      "[23 34 45 32 44 12 32 55 67]\n",
      "(array([3, 6], dtype=int64),)\n"
     ]
    }
   ],
   "source": [
    "import numpy as np\n",
    "ar1=np.array([23,34,45,32,44,12,32,55,67])\n",
    "print(ar1)\n",
    "ap=np.where(ar1==32)\n",
    "print(ap)"
   ]
  },
  {
   "cell_type": "code",
   "execution_count": 13,
   "metadata": {},
   "outputs": [
    {
     "name": "stdout",
     "output_type": "stream",
     "text": [
      "[23 34 45 32 44 12 32 55 67]\n",
      "(array([1], dtype=int64),)\n"
     ]
    }
   ],
   "source": [
    "import numpy as np\n",
    "ar1=np.array([23,34,45,32,44,12,32,55,67])\n",
    "print(ar1)\n",
    "ap=np.where(ar1==34)\n",
    "print(ap)"
   ]
  },
  {
   "cell_type": "code",
   "execution_count": 14,
   "metadata": {},
   "outputs": [
    {
     "name": "stdout",
     "output_type": "stream",
     "text": [
      "(array([0, 2, 4, 5], dtype=int64),)\n"
     ]
    }
   ],
   "source": [
    "import numpy as np\n",
    "ar2=np.array([22,23,24,25,62,72])\n",
    "ap=np.where(ar2%2==0)                    ## Check even numbers array position ##\n",
    "print(ap)"
   ]
  },
  {
   "cell_type": "code",
   "execution_count": 15,
   "metadata": {},
   "outputs": [
    {
     "name": "stdout",
     "output_type": "stream",
     "text": [
      "(array([1, 3], dtype=int64),)\n"
     ]
    }
   ],
   "source": [
    "import numpy as np\n",
    "ar2=np.array([22,23,24,25,62,72])\n",
    "ap=np.where(ar2%2==1)                   ## Check odd numbers array position ##\n",
    "print(ap)"
   ]
  },
  {
   "cell_type": "code",
   "execution_count": null,
   "metadata": {},
   "outputs": [],
   "source": []
  }
 ],
 "metadata": {
  "kernelspec": {
   "display_name": "Python 3",
   "language": "python",
   "name": "python3"
  },
  "language_info": {
   "codemirror_mode": {
    "name": "ipython",
    "version": 3
   },
   "file_extension": ".py",
   "mimetype": "text/x-python",
   "name": "python",
   "nbconvert_exporter": "python",
   "pygments_lexer": "ipython3",
   "version": "3.7.6"
  }
 },
 "nbformat": 4,
 "nbformat_minor": 4
}
