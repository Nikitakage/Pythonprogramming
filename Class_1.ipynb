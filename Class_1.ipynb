{
 "cells": [
  {
   "cell_type": "code",
   "execution_count": 1,
   "metadata": {},
   "outputs": [
    {
     "name": "stdout",
     "output_type": "stream",
     "text": [
      "85\n"
     ]
    }
   ],
   "source": [
    "class stud:\n",
    "    def person(self):\n",
    "        self.a=5\n",
    "        self.b=80\n",
    "        \n",
    "    def show(self):\n",
    "        print(self.a+self.b)\n",
    "        \n",
    "    def mark(self):\n",
    "        for x in range(self.b):\n",
    "            return x\n",
    "    def marksheet(marks):\n",
    "        p=marks\n",
    "        \n",
    "        \n",
    "        \n",
    "o=stud()\n",
    "o.person()\n",
    "o.show()\n",
    "s=o.mark()\n",
    "o.marksheet()"
   ]
  },
  {
   "cell_type": "code",
   "execution_count": 3,
   "metadata": {},
   "outputs": [
    {
     "name": "stdout",
     "output_type": "stream",
     "text": [
      "Enter the product_name:Parle\n",
      "Enter the product_number:5456\n",
      "Enter the product_id:1254785\n",
      "Enter the product_cost:20\n",
      "Enter the product_PKD_date:23/4/2022\n",
      "Enter the product_EXP_date:25/5/2022\n",
      "Product_Name: Parle Product_No.: 5456 ______________ Product_ID: 1254785 _____________\n",
      "Product_Cost: 20 _____________ Product_PKD_date: 23/4/2022 ______________ Product_EXP_date: 25/5/2022\n",
      "******************************************************************************************\n",
      "Enter the product_name:Sugar\n",
      "Enter the product_number:6984\n",
      "Enter the product_id:3215475\n",
      "Enter the product_cost:50\n",
      "Enter the product_PKD_date:04/05/2022\n",
      "Enter the product_EXP_date:06/08/2022\n",
      "Product_Name: Sugar Product_No.: 6984 ______________ Product_ID: 3215475 _____________\n",
      "Product_Cost: 50 _____________ Product_PKD_date: 04/05/2022 ______________ Product_EXP_date: 06/08/2022\n",
      "******************************************************************************************\n"
     ]
    }
   ],
   "source": [
    "class DMART:\n",
    "    \n",
    "    def product(self):\n",
    "        self.product_name = input(\"Enter the product_name:\")\n",
    "        self.product_no = int(input(\"Enter the product_number:\"))\n",
    "        self.product_id = int(input(\"Enter the product_id:\"))\n",
    "        self.product_cost = int(input(\"Enter the product_cost:\"))\n",
    "        self.product_PKD_date = input(\"Enter the product_PKD_date:\")\n",
    "        self.product_EXP_date = input(\"Enter the product_EXP_date:\")\n",
    "        \n",
    "        \n",
    "    def show(self):\n",
    "        print(\"Product_Name:\", self.product_name,\"Product_No.:\",self.product_no,\"______________\",\"Product_ID:\",self.product_id,\"_____________\")\n",
    "        print(\"Product_Cost:\",self.product_cost,\"_____________\",\"Product_PKD_date:\",self.product_PKD_date,\"______________\",\"Product_EXP_date:\",self.product_EXP_date)\n",
    "        print(\"******************************************************************************************\")\n",
    "\n",
    "for x in range(2):\n",
    "    obj=DMART()\n",
    "    obj.product()\n",
    "    obj.show()\n",
    "\n",
    "\n",
    "    "
   ]
  },
  {
   "cell_type": "code",
   "execution_count": 5,
   "metadata": {},
   "outputs": [
    {
     "name": "stdout",
     "output_type": "stream",
     "text": [
      "Enter the Name: Nik\n",
      "Enter The Number: 658469\n",
      "Nik 658469\n",
      "Enter the Marks : 65\n",
      "Enter the Marks : 85\n",
      "Enter the Marks : 90\n",
      "[65, 85, 90]\n",
      "My Name is:  Nik and Pincode is:  658469\n",
      "My Marks:  [65, 85, 90]\n"
     ]
    }
   ],
   "source": [
    "class person:\n",
    "        def __init__(self,name,num):\n",
    "            self.name=name\n",
    "            self.num=num\n",
    "            self.marks=[]\n",
    "        def show(self,n):\n",
    "            print(self.name,self.num)\n",
    "            for x in range(n):\n",
    "                m=int(input(\"Enter the Marks : \"))\n",
    "                self.marks.append(m)\n",
    "            print(self.marks)\n",
    "        def mouse(self):\n",
    "            print(\"My Name is: \",self.name,\"and Pincode is: \",self.num)\n",
    "            print(\"My Marks: \",self.marks)\n",
    "\n",
    "a=input(\"Enter the Name: \")\n",
    "b=int(input(\"Enter The Number: \"))\n",
    "p1=person(a,b)\n",
    "p1.show(3)\n",
    "p1.mouse()"
   ]
  },
  {
   "cell_type": "code",
   "execution_count": 6,
   "metadata": {},
   "outputs": [
    {
     "name": "stdout",
     "output_type": "stream",
     "text": [
      "Enter the Registration no.:124421\n",
      "Enter the Name:Neha\n",
      "Enter the user name:Neha123\n",
      "Enter the Login ID:6583\n",
      "Enter the Password202225\n",
      "----------------------------------------------\n",
      "Registration_NO:  124421\n",
      "Name:  Neha\n",
      "User Name:  Neha123\n",
      "Login ID:  6583\n",
      "Password:  202225\n",
      "********************************************\n",
      "********************************************\n",
      "Enter the Registration no.:124422\n",
      "Enter the Name:Diya\n",
      "Enter the user name:Diya67\n",
      "Enter the Login ID:6583\n",
      "Enter the Password65321\n",
      "----------------------------------------------\n",
      "Registration_NO:  124422\n",
      "Name:  Diya\n",
      "User Name:  Diya67\n",
      "Login ID:  6583\n",
      "Password:  65321\n",
      "********************************************\n",
      "********************************************\n",
      "Enter the Registration no.:124423\n",
      "Enter the Name:Ira\n",
      "Enter the user name:Ira99\n",
      "Enter the Login ID:2568\n",
      "Enter the Password55487\n",
      "----------------------------------------------\n",
      "Registration_NO:  124423\n",
      "Name:  Ira\n",
      "User Name:  Ira99\n",
      "Login ID:  2568\n",
      "Password:  55487\n",
      "********************************************\n",
      "********************************************\n"
     ]
    }
   ],
   "source": [
    "class Register:\n",
    "    def __init__(self):\n",
    "        self.Regi_no = int(input(\"Enter the Registration no.:\"))\n",
    "        self.Name = input(\"Enter the Name:\")\n",
    "        self.User_name = input(\"Enter the user name:\")\n",
    "        self.Login_id = input(\"Enter the Login ID:\")\n",
    "        self.Password = int(input(\"Enter the Password\"))\n",
    "        print(\"----------------------------------------------\")\n",
    "        \n",
    "for x in range(3):\n",
    "    Regi = Register()\n",
    "    print(\"Registration_NO: \",Regi.Regi_no)\n",
    "    print(\"Name: \",Regi.Name)\n",
    "    print(\"User Name: \",Regi.User_name)\n",
    "    print(\"Login ID: \",Regi.Login_id)\n",
    "    print(\"Password: \",Regi.Password)\n",
    "    print(\"********************************************\")\n",
    "    print(\"********************************************\")"
   ]
  },
  {
   "cell_type": "code",
   "execution_count": 7,
   "metadata": {},
   "outputs": [
    {
     "name": "stdout",
     "output_type": "stream",
     "text": [
      "Registration_No: 2003\n",
      "Name: Disha\n",
      "Login_ID: Disha@45\n",
      "Password: 66985\n"
     ]
    }
   ],
   "source": [
    "class Register:\n",
    "    def __init__(self,Regi_No,Name,Login_id,Password):\n",
    "        self.Regi_No = Regi_No\n",
    "        self.Name = Name\n",
    "        self.Login_id = Login_id\n",
    "        self.Password = Password\n",
    "        \n",
    "m1 = Register(2003,\"Disha\",\"Disha@45\",66985)\n",
    "print(\"Registration_No:\",m1.Regi_No)\n",
    "print(\"Name:\",m1.Name)\n",
    "print(\"Login_ID:\",m1.Login_id)\n",
    "print(\"Password:\",m1.Password)"
   ]
  }
 ],
 "metadata": {
  "kernelspec": {
   "display_name": "Python 3",
   "language": "python",
   "name": "python3"
  },
  "language_info": {
   "codemirror_mode": {
    "name": "ipython",
    "version": 3
   },
   "file_extension": ".py",
   "mimetype": "text/x-python",
   "name": "python",
   "nbconvert_exporter": "python",
   "pygments_lexer": "ipython3",
   "version": "3.8.5"
  }
 },
 "nbformat": 4,
 "nbformat_minor": 4
}
