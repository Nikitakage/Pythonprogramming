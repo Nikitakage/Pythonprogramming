{
 "cells": [
  {
   "cell_type": "code",
   "execution_count": 1,
   "metadata": {},
   "outputs": [
    {
     "name": "stdout",
     "output_type": "stream",
     "text": [
      "Enter the Name: Aaru\n",
      "Enter the Marks:..56\n",
      "Enter the Marks:..78\n",
      "Enter the Marks:..44\n",
      "Enter the Name: Pooja\n",
      "Enter the Marks:..55\n",
      "Enter the Marks:..40\n",
      "Enter the Marks:..35\n",
      "Enter the Name: Isha\n",
      "Enter the Marks:..35\n",
      "Enter the Marks:..34\n",
      "Enter the Marks:..66\n",
      "Pass with Good Marks\n",
      "Very Good Marks \n",
      "Pass with Good Marks\n",
      "Pass with Good Marks\n",
      "Pass with Good Marks\n",
      "Pass with Good Marks\n",
      "Pass with Good Marks\n",
      "He is Failed\n",
      "Very Good Marks \n"
     ]
    }
   ],
   "source": [
    "city_name=['Pune','Mumbai','kolhapur']\n",
    "Pune=[]\n",
    "Mumbai=[]\n",
    "Kolhapur=[]\n",
    "temp=[]\n",
    "marksheet=[]\n",
    "for city in city_name:\n",
    "     if city=='Pune':\n",
    "            for x1 in range(3):\n",
    "                name=input(\"Enter the Name: \") #sachin\n",
    "                Pune.append(name)\n",
    "                for x2 in range(3):\n",
    "                    marks=int(input(\"Enter the Marks:..\"))\n",
    "                    temp.append(marks)\n",
    "            for m in temp:\n",
    "                if m>=1 and m<35:\n",
    "                    print(\"He is Failed\")\n",
    "                elif m>=35 and m<=60:\n",
    "                    print(\"Pass with Good Marks\")\n",
    "                elif m>60 and m<=100:\n",
    "                    print(\"Very Good Marks \")\n",
    "                else:\n",
    "                    print(\"Wrong Input......\")"
   ]
  },
  {
   "cell_type": "code",
   "execution_count": 2,
   "metadata": {},
   "outputs": [
    {
     "name": "stdout",
     "output_type": "stream",
     "text": [
      "Enter the Name of Students..Tanisha\n",
      "Enter the Name of Students..Kunal\n",
      "Enter the Name of Students..Aadi\n",
      "My Pune Students:  ['Tanisha', 'Kunal', 'Aadi']\n"
     ]
    }
   ],
   "source": [
    "# This program: List \n",
    "city=['Pune','Mumbai','Nagpur']\n",
    "Pune_stud=[]\n",
    "for x in city:\n",
    "    if x == 'Pune':\n",
    "        for s in range(3):\n",
    "            name=input(\"Enter the Name of Students..\")\n",
    "            Pune_stud.append(name)\n",
    "print(\"My Pune Students: \",Pune_stud)\n",
    "\n"
   ]
  },
  {
   "cell_type": "code",
   "execution_count": 3,
   "metadata": {},
   "outputs": [
    {
     "name": "stdout",
     "output_type": "stream",
     "text": [
      "Enter the Name of Students..Swati\n",
      "Enter the Name of Students..Neha\n",
      "Enter the Name of Students..Pihu\n",
      "My Pune Students:  {'Neha', 'Swati', 'Pihu'}\n"
     ]
    }
   ],
   "source": [
    "# This program: SETS\n",
    "city=['Pune','Mumbai','Nagpur']\n",
    "Pune_stud=set()\n",
    "for x in city:\n",
    "    if x == 'Pune':\n",
    "        for s in range(3):\n",
    "            name=input(\"Enter the Name of Students..\")\n",
    "            Pune_stud.add(name)\n",
    "print(\"My Pune Students: \",Pune_stud)"
   ]
  },
  {
   "cell_type": "code",
   "execution_count": 5,
   "metadata": {},
   "outputs": [
    {
     "name": "stdout",
     "output_type": "stream",
     "text": [
      "Enter the Name of Students..Trupti\n",
      "Enter the Marks: 45\n",
      "Enter the Marks: 78\n",
      "Enter the Name of Students..Vinay\n",
      "Enter the Marks: 66\n",
      "Enter the Marks: 77\n",
      "Enter the Name of Students..Kartik\n",
      "Enter the Marks: 86\n",
      "Enter the Marks: 88\n",
      "---------------------------------------------------------------\n",
      "My Pune Students Names:  ['Trupti', 'Vinay', 'Kartik']\n",
      "My Pune Students Names and Marks  ['Trupti', 45, 78, 'Vinay', 66, 77, 'Kartik', 86, 88]\n"
     ]
    }
   ],
   "source": [
    "# This program: List \n",
    "city=['Pune','Mumbai','Nagpur']\n",
    "Pune_stud=[]\n",
    "Pune_Stud_Marks=[]\n",
    "for x in city:\n",
    "    if x == 'Pune':\n",
    "        for s in range(3): # Sagar,Amit,Pooja\n",
    "            name=input(\"Enter the Name of Students..\")\n",
    "            Pune_stud.append(name)\n",
    "            Pune_Stud_Marks.append(name)\n",
    "            for x1 in range(2):\n",
    "                m=int(input(\"Enter the Marks: \"))\n",
    "                Pune_Stud_Marks.append(m)\n",
    "        print('---------------------------------------------------------------')\n",
    "        \n",
    " \n",
    "print(\"My Pune Students Names: \",Pune_stud)\n",
    "print(\"My Pune Students Names and Marks \",Pune_Stud_Marks)"
   ]
  },
  {
   "cell_type": "code",
   "execution_count": null,
   "metadata": {},
   "outputs": [],
   "source": []
  }
 ],
 "metadata": {
  "kernelspec": {
   "display_name": "Python 3",
   "language": "python",
   "name": "python3"
  },
  "language_info": {
   "codemirror_mode": {
    "name": "ipython",
    "version": 3
   },
   "file_extension": ".py",
   "mimetype": "text/x-python",
   "name": "python",
   "nbconvert_exporter": "python",
   "pygments_lexer": "ipython3",
   "version": "3.8.5"
  }
 },
 "nbformat": 4,
 "nbformat_minor": 4
}
