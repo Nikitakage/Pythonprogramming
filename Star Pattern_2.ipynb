{
 "cells": [
  {
   "cell_type": "markdown",
   "metadata": {},
   "source": [
    "# Mirror Triangle"
   ]
  },
  {
   "cell_type": "code",
   "execution_count": 1,
   "metadata": {},
   "outputs": [
    {
     "name": "stdout",
     "output_type": "stream",
     "text": [
      "          \n",
      "        * \n",
      "      * * \n",
      "    * * * \n",
      "  * * * * \n"
     ]
    }
   ],
   "source": [
    "for x in range(5):\n",
    "    for y in range(x,5):\n",
    "        print(\" \",end=\" \")\n",
    "    for y in range(x):\n",
    "        print(\"*\",end=\" \")\n",
    "    print()"
   ]
  },
  {
   "cell_type": "code",
   "execution_count": 2,
   "metadata": {},
   "outputs": [
    {
     "name": "stdout",
     "output_type": "stream",
     "text": [
      "          * \n",
      "        * * \n",
      "      * * * \n",
      "    * * * * \n",
      "  * * * * * \n"
     ]
    }
   ],
   "source": [
    "for x in range(5):\n",
    "    for y in range(x,5):\n",
    "        print(\" \",end=\" \")\n",
    "    for y in range(x+1):\n",
    "        print(\"*\",end=\" \")\n",
    "    print()"
   ]
  },
  {
   "cell_type": "markdown",
   "metadata": {},
   "source": [
    "# Reverse Triangle"
   ]
  },
  {
   "cell_type": "code",
   "execution_count": 3,
   "metadata": {},
   "outputs": [
    {
     "name": "stdout",
     "output_type": "stream",
     "text": [
      "* * * * * \n",
      "  * * * * \n",
      "    * * * \n",
      "      * * \n",
      "        * \n"
     ]
    }
   ],
   "source": [
    "for x in range(5):\n",
    "    for y in range(x):\n",
    "        print(\" \",end=\" \")\n",
    "    for y in range(x,5):\n",
    "        print(\"*\",end=\" \")\n",
    "    print()\n",
    "        "
   ]
  },
  {
   "cell_type": "code",
   "execution_count": 4,
   "metadata": {},
   "outputs": [
    {
     "name": "stdout",
     "output_type": "stream",
     "text": [
      "  * * * * * * \n",
      "    * * * * * \n",
      "      * * * * \n",
      "        * * * \n",
      "          * * \n",
      "            * \n"
     ]
    }
   ],
   "source": [
    "for x in range(6):\n",
    "    for y in range(x+1):\n",
    "        print(\" \",end=\" \")\n",
    "    for y in range(x,6):\n",
    "        print(\"*\",end=\" \")\n",
    "    print()\n",
    "    "
   ]
  },
  {
   "cell_type": "markdown",
   "metadata": {},
   "source": [
    "# Hill Pattern"
   ]
  },
  {
   "cell_type": "code",
   "execution_count": 5,
   "metadata": {},
   "outputs": [
    {
     "name": "stdout",
     "output_type": "stream",
     "text": [
      "            * \n",
      "          * * * \n",
      "        * * * * * \n",
      "      * * * * * * * \n",
      "    * * * * * * * * * \n",
      "  * * * * * * * * * * * \n"
     ]
    }
   ],
   "source": [
    "for x in range(6):\n",
    "    for y in range(x,6):\n",
    "        print(\" \",end=\" \")\n",
    "    for y in range(x+1):\n",
    "        print(\"*\",end=\" \")\n",
    "    for y in range(x):\n",
    "        print(\"*\",end=\" \")\n",
    "    print( )"
   ]
  },
  {
   "cell_type": "code",
   "execution_count": 6,
   "metadata": {},
   "outputs": [
    {
     "name": "stdout",
     "output_type": "stream",
     "text": [
      "          * \n",
      "        * * * \n",
      "      * * * * * \n",
      "    * * * * * * * \n",
      "  * * * * * * * * * \n"
     ]
    }
   ],
   "source": [
    "for x in range(5):\n",
    "    for y in range(5-x):\n",
    "        print(\" \",end=\" \")\n",
    "    for y in range(x):\n",
    "        print(\"*\",end=\" \")\n",
    "    for y in range(x+1):\n",
    "        print(\"*\",end=\" \")\n",
    "    print( )"
   ]
  },
  {
   "cell_type": "markdown",
   "metadata": {},
   "source": [
    "# Reverse Hill Pattern"
   ]
  },
  {
   "cell_type": "code",
   "execution_count": 7,
   "metadata": {},
   "outputs": [
    {
     "name": "stdout",
     "output_type": "stream",
     "text": [
      "  * * * * * * * * * * * \n",
      "    * * * * * * * * * \n",
      "      * * * * * * * \n",
      "        * * * * * \n",
      "          * * * \n",
      "            * \n"
     ]
    }
   ],
   "source": [
    "for x in range(6):\n",
    "    for y in range(x+1):\n",
    "        print(\" \",end=\" \")\n",
    "    for y in range(x,6-1):\n",
    "        print(\"*\",end=\" \")\n",
    "    for y in range(x,6):\n",
    "        print(\"*\",end=\" \")\n",
    "    print( )"
   ]
  },
  {
   "cell_type": "code",
   "execution_count": 8,
   "metadata": {},
   "outputs": [
    {
     "name": "stdout",
     "output_type": "stream",
     "text": [
      "* * * * * * * * * \n",
      "  * * * * * * * \n",
      "    * * * * * \n",
      "      * * * \n",
      "        * \n"
     ]
    }
   ],
   "source": [
    "for x in range(5):\n",
    "    for y in range(x):\n",
    "        print(\" \",end=\" \")\n",
    "    for y in range(x,5):\n",
    "        print(\"*\",end=\" \")\n",
    "    for y in range(x,5-1):\n",
    "        print(\"*\",end=\" \")\n",
    "    print( )"
   ]
  },
  {
   "cell_type": "markdown",
   "metadata": {},
   "source": [
    "# Diamond"
   ]
  },
  {
   "cell_type": "code",
   "execution_count": 9,
   "metadata": {},
   "outputs": [
    {
     "name": "stdout",
     "output_type": "stream",
     "text": [
      "          * \n",
      "        * * * \n",
      "      * * * * * \n",
      "    * * * * * * * \n",
      "  * * * * * * * * * \n",
      "    * * * * * * * \n",
      "      * * * * * \n",
      "        * * * \n",
      "          * \n"
     ]
    }
   ],
   "source": [
    "for x in range(5-1):\n",
    "    for y in range(x,5):\n",
    "        print(\" \",end=\" \")\n",
    "    for y in range(x):\n",
    "        print(\"*\",end=\" \")\n",
    "    for y in range(x+1):\n",
    "        print(\"*\",end=\" \")\n",
    "    print()\n",
    "for i in range(5):\n",
    "    for s in range(i+1):\n",
    "        print(\" \",end=\" \")\n",
    "    for s in range(i,5-1):\n",
    "        print(\"*\",end=\" \")\n",
    "    for s in range(i,5):\n",
    "        print(\"*\",end=\" \")\n",
    "    print()"
   ]
  }
 ],
 "metadata": {
  "kernelspec": {
   "display_name": "Python 3",
   "language": "python",
   "name": "python3"
  },
  "language_info": {
   "codemirror_mode": {
    "name": "ipython",
    "version": 3
   },
   "file_extension": ".py",
   "mimetype": "text/x-python",
   "name": "python",
   "nbconvert_exporter": "python",
   "pygments_lexer": "ipython3",
   "version": "3.8.5"
  }
 },
 "nbformat": 4,
 "nbformat_minor": 4
}
