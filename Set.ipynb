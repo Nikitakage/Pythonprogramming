{
 "cells": [
  {
   "cell_type": "code",
   "execution_count": 1,
   "metadata": {},
   "outputs": [],
   "source": [
    "# Set is changable.\n",
    "# It does not allow duplicate members\n",
    "# It is unindexed and unordered\n",
    "# It defines in {}"
   ]
  },
  {
   "cell_type": "code",
   "execution_count": 2,
   "metadata": {},
   "outputs": [
    {
     "name": "stdout",
     "output_type": "stream",
     "text": [
      "<class 'dict'>\n",
      "<class 'set'>\n"
     ]
    }
   ],
   "source": [
    "call = {}                        # because it is blank set\n",
    "call2 = set()\n",
    "\n",
    "print(type(call))\n",
    "print(type(call2))"
   ]
  },
  {
   "cell_type": "code",
   "execution_count": 3,
   "metadata": {},
   "outputs": [
    {
     "name": "stdout",
     "output_type": "stream",
     "text": [
      "<class 'set'>\n"
     ]
    }
   ],
   "source": [
    "call={\"Neha\",\"Nikita\",\"Diksha\",\"Swaranjali\",\"Aarohi\",\"Reva\"}\n",
    "print(type(call))"
   ]
  },
  {
   "cell_type": "code",
   "execution_count": 4,
   "metadata": {},
   "outputs": [
    {
     "name": "stdout",
     "output_type": "stream",
     "text": [
      "{'Diksha', 'Swaranjali', 'Reva', 'Neha', 'Nikita', 'Aarohi'}\n"
     ]
    }
   ],
   "source": [
    "name= {\"Neha\",\"Nikita\",\"Diksha\",\"Swaranjali\",\"Aarohi\",\"Reva\"}\n",
    "print(name)"
   ]
  },
  {
   "cell_type": "code",
   "execution_count": 5,
   "metadata": {},
   "outputs": [
    {
     "name": "stdout",
     "output_type": "stream",
     "text": [
      "{'Diksha', 'Swaranjali', 'Aboli', 'Reva', 'Neha', 'Nikita', 'Aarohi'}\n"
     ]
    }
   ],
   "source": [
    "# Add\n",
    "\n",
    "name= {\"Neha\",\"Nikita\",\"Diksha\",\"Swaranjali\",\"Aarohi\",\"Reva\"}\n",
    "name.add(\"Aboli\")\n",
    "print(name)"
   ]
  },
  {
   "cell_type": "code",
   "execution_count": 6,
   "metadata": {},
   "outputs": [
    {
     "name": "stdout",
     "output_type": "stream",
     "text": [
      "{'Diksha', 'Swaranjali', 'Reva', 'Nikita', 'Aarohi'}\n"
     ]
    }
   ],
   "source": [
    "# Remove\n",
    "\n",
    "name= {\"Neha\",\"Nikita\",\"Diksha\",\"Swaranjali\",\"Aarohi\",\"Reva\"}\n",
    "name.remove(\"Neha\")\n",
    "print(name)"
   ]
  },
  {
   "cell_type": "code",
   "execution_count": 7,
   "metadata": {},
   "outputs": [
    {
     "name": "stdout",
     "output_type": "stream",
     "text": [
      "{'Diksha', 'Swaranjali', 'Reva', 'Nikita', 'Aarohi'}\n"
     ]
    }
   ],
   "source": [
    "# Discard\n",
    "\n",
    "name= {\"Neha\",\"Nikita\",\"Diksha\",\"Swaranjali\",\"Aarohi\",\"Reva\"}\n",
    "name.discard(\"Neha\")\n",
    "print(name)"
   ]
  },
  {
   "cell_type": "code",
   "execution_count": 8,
   "metadata": {},
   "outputs": [
    {
     "name": "stdout",
     "output_type": "stream",
     "text": [
      "{'Diksha', 'Vinya', 'Swaranjali', 'Pruthvi', 'Shiva', 'Reva', 'Neha', 'Pranav', 'Sahil', 'Nikita', 'Aarohi', 'Daksh'}\n"
     ]
    }
   ],
   "source": [
    "# How to join\n",
    "\n",
    "name= {\"Neha\",\"Nikita\",\"Diksha\",\"Swaranjali\",\"Aarohi\",\"Reva\"} \n",
    "name2= {\"Sahil\",\"Pranav\",\"Vinya\",\"Pruthvi\",\"Daksh\",\"Shiva\"}\n",
    "ab=name.union(name2)\n",
    "print(ab)"
   ]
  }
 ],
 "metadata": {
  "kernelspec": {
   "display_name": "Python 3",
   "language": "python",
   "name": "python3"
  },
  "language_info": {
   "codemirror_mode": {
    "name": "ipython",
    "version": 3
   },
   "file_extension": ".py",
   "mimetype": "text/x-python",
   "name": "python",
   "nbconvert_exporter": "python",
   "pygments_lexer": "ipython3",
   "version": "3.8.5"
  }
 },
 "nbformat": 4,
 "nbformat_minor": 4
}
