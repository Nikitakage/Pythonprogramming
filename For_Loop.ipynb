{
 "cells": [
  {
   "cell_type": "code",
   "execution_count": 1,
   "metadata": {},
   "outputs": [
    {
     "name": "stdout",
     "output_type": "stream",
     "text": [
      "Hi...\n",
      "Hi...\n"
     ]
    }
   ],
   "source": [
    "# For loop\n",
    "\n",
    "for x in range(2):\n",
    "    print(\"Hi...\")"
   ]
  },
  {
   "cell_type": "code",
   "execution_count": 2,
   "metadata": {},
   "outputs": [
    {
     "name": "stdout",
     "output_type": "stream",
     "text": [
      "Hi... 1\n",
      "Hi... 2\n",
      "Hi... 3\n",
      "Hi... 4\n",
      "Hi... 5\n",
      "Hi... 6\n",
      "Hi... 7\n",
      "Hi... 8\n",
      "Hi... 9\n"
     ]
    }
   ],
   "source": [
    "for x in range(1,10):\n",
    "    print(\"Hi...\",x)"
   ]
  },
  {
   "cell_type": "code",
   "execution_count": 3,
   "metadata": {},
   "outputs": [
    {
     "name": "stdout",
     "output_type": "stream",
     "text": [
      "Hi...\n",
      "Hi...\n",
      "Hi...\n",
      "Hi...\n",
      "Hi...\n"
     ]
    }
   ],
   "source": [
    "for x in range(1,10,2):\n",
    "    print(\"Hi...\")"
   ]
  },
  {
   "cell_type": "code",
   "execution_count": 4,
   "metadata": {},
   "outputs": [
    {
     "name": "stdout",
     "output_type": "stream",
     "text": [
      "Enter the no.:3\n",
      "0\n",
      "1\n",
      "2\n"
     ]
    }
   ],
   "source": [
    "n = int(input(\"Enter the no.:\"))\n",
    "for x in range(n):\n",
    "    print(x)"
   ]
  },
  {
   "cell_type": "code",
   "execution_count": 5,
   "metadata": {},
   "outputs": [
    {
     "name": "stdout",
     "output_type": "stream",
     "text": [
      "N\n",
      "i\n",
      "k\n",
      "i\n",
      "t\n",
      "a\n"
     ]
    }
   ],
   "source": [
    "# String\n",
    "\n",
    "a=\"Nikita\"\n",
    "for x in a:\n",
    "    print(x)"
   ]
  },
  {
   "cell_type": "code",
   "execution_count": 6,
   "metadata": {},
   "outputs": [
    {
     "name": "stdout",
     "output_type": "stream",
     "text": [
      "Enter city name:Pune\n",
      "P\n",
      "u\n",
      "n\n",
      "e\n",
      "Enter city name:Sangli\n",
      "S\n",
      "a\n",
      "n\n",
      "g\n",
      "l\n",
      "i\n"
     ]
    }
   ],
   "source": [
    "for x1 in range(2):\n",
    "    a=input(\"Enter city name:\")\n",
    "    for x in a:\n",
    "        print(x)"
   ]
  },
  {
   "cell_type": "code",
   "execution_count": 7,
   "metadata": {},
   "outputs": [
    {
     "name": "stdout",
     "output_type": "stream",
     "text": [
      "N\n",
      "total 20\n",
      "i\n",
      "total 20\n",
      "k\n",
      "total 20\n"
     ]
    }
   ],
   "source": [
    "a=\"Nik\"\n",
    "for x in a:\n",
    "    print(x)\n",
    "    a=10\n",
    "    b=2\n",
    "    print(\"total\",a*b)"
   ]
  },
  {
   "cell_type": "code",
   "execution_count": 8,
   "metadata": {},
   "outputs": [
    {
     "name": "stdout",
     "output_type": "stream",
     "text": [
      "Enter 1st name:...Nikita\n",
      "Enter 2nd name:...Neha\n",
      "Enter 3rd name:...Diksha\n",
      "Nikita\n",
      "Neha\n",
      "Diksha\n"
     ]
    }
   ],
   "source": [
    "a=input(\"Enter 1st name:...\")\n",
    "b=input(\"Enter 2nd name:...\")\n",
    "c=input(\"Enter 3rd name:...\")\n",
    "s=[a,b,c]\n",
    "for x in s:\n",
    "    print(x)"
   ]
  },
  {
   "cell_type": "code",
   "execution_count": 9,
   "metadata": {},
   "outputs": [
    {
     "name": "stdout",
     "output_type": "stream",
     "text": [
      "1\n",
      "3\n",
      "5\n",
      "7\n",
      "9\n",
      "11\n",
      "13\n",
      "15\n",
      "17\n",
      "19\n",
      "21\n",
      "23\n",
      "25\n",
      "27\n",
      "29\n"
     ]
    }
   ],
   "source": [
    "#odd numbers\n",
    "for b in range(1,30,2):\n",
    "    print(b)\n"
   ]
  },
  {
   "cell_type": "code",
   "execution_count": 10,
   "metadata": {},
   "outputs": [
    {
     "name": "stdout",
     "output_type": "stream",
     "text": [
      "2\n",
      "4\n",
      "6\n",
      "8\n",
      "10\n",
      "12\n",
      "14\n",
      "16\n",
      "18\n",
      "20\n",
      "22\n",
      "24\n",
      "26\n",
      "28\n"
     ]
    }
   ],
   "source": [
    "#Even numbers\n",
    "for x in range(2,30,2):\n",
    "    print(x)"
   ]
  },
  {
   "cell_type": "code",
   "execution_count": 11,
   "metadata": {},
   "outputs": [
    {
     "name": "stdout",
     "output_type": "stream",
     "text": [
      "3\n",
      "6\n",
      "9\n",
      "12\n",
      "15\n",
      "18\n",
      "21\n",
      "24\n",
      "27\n",
      "30\n"
     ]
    }
   ],
   "source": [
    "# Table of 3\n",
    "for x in range(3,33,3):\n",
    "    print(x)"
   ]
  },
  {
   "cell_type": "code",
   "execution_count": 12,
   "metadata": {},
   "outputs": [
    {
     "name": "stdout",
     "output_type": "stream",
     "text": [
      "Enter the no.:3\n",
      "3\n",
      "6\n",
      "9\n",
      "12\n",
      "15\n",
      "18\n",
      "21\n",
      "24\n",
      "27\n",
      "30\n"
     ]
    }
   ],
   "source": [
    "# Table by user\n",
    "n= int(input(\"Enter the no.:\"))\n",
    "for x in range(n,n*11,n):\n",
    "    print(x)"
   ]
  },
  {
   "cell_type": "code",
   "execution_count": 13,
   "metadata": {},
   "outputs": [
    {
     "name": "stdout",
     "output_type": "stream",
     "text": [
      "Sangli\n",
      "Pune\n",
      "Delhi\n",
      "Satara\n"
     ]
    }
   ],
   "source": [
    "# list\n",
    "a=[\"Sangli\",\"Pune\",\"Delhi\",\"Satara\"]\n",
    "for x in a:\n",
    "    print(x)\n"
   ]
  },
  {
   "cell_type": "code",
   "execution_count": 14,
   "metadata": {},
   "outputs": [
    {
     "name": "stdout",
     "output_type": "stream",
     "text": [
      "S\n",
      "a\n",
      "t\n",
      "a\n",
      "r\n",
      "a\n"
     ]
    }
   ],
   "source": [
    "a=[\"Sangli\",\"Pune\",\"Delhi\",\"Satara\"]\n",
    "for x in a[3]:\n",
    "    print(x)"
   ]
  },
  {
   "cell_type": "code",
   "execution_count": 15,
   "metadata": {},
   "outputs": [
    {
     "name": "stdout",
     "output_type": "stream",
     "text": [
      "Pune\n",
      "Satara\n"
     ]
    }
   ],
   "source": [
    "a=[\"Sangli\",\"Pune\",\"Delhi\",\"Satara\"]\n",
    "for x in a[1],a[3]:\n",
    "    print(x)\n"
   ]
  },
  {
   "cell_type": "code",
   "execution_count": 16,
   "metadata": {},
   "outputs": [
    {
     "name": "stdout",
     "output_type": "stream",
     "text": [
      "h\n"
     ]
    }
   ],
   "source": [
    "a=[\"Sangli\",\"Pune\",\"Delhi\",\"Satara\"]\n",
    "for x in a[2][3]:\n",
    "    print(x)"
   ]
  },
  {
   "cell_type": "code",
   "execution_count": 17,
   "metadata": {},
   "outputs": [
    {
     "name": "stdout",
     "output_type": "stream",
     "text": [
      "Pune\n",
      "e\n",
      "Delhi\n",
      "e\n"
     ]
    }
   ],
   "source": [
    "a=[\"Sangli\",\"Pune\",\"Delhi\",\"Satara\"]\n",
    "for x in a[1],a[2]:\n",
    "    print(x)\n",
    "    for x in a[1][3]:\n",
    "        print(x)"
   ]
  },
  {
   "cell_type": "code",
   "execution_count": 18,
   "metadata": {},
   "outputs": [
    {
     "name": "stdout",
     "output_type": "stream",
     "text": [
      "Your name:Isha\n",
      "Your name:Era\n",
      "['Isha', 'Era']\n"
     ]
    }
   ],
   "source": [
    "a=input(\"Your name:\")\n",
    "b=input(\"Your name:\")\n",
    "c=[a,b]\n",
    "print(c)"
   ]
  },
  {
   "cell_type": "code",
   "execution_count": 19,
   "metadata": {},
   "outputs": [
    {
     "name": "stdout",
     "output_type": "stream",
     "text": [
      "Your name:Arohi\n",
      "Your name:Sahil\n",
      "['Arohi', 'Sahil']\n",
      "A\n",
      "r\n",
      "o\n",
      "h\n",
      "i\n"
     ]
    }
   ],
   "source": [
    "a=input(\"Your name:\")\n",
    "b=input(\"Your name:\")\n",
    "c=[a,b]\n",
    "print(c)\n",
    "for x in a:\n",
    "    print(x)"
   ]
  }
 ],
 "metadata": {
  "kernelspec": {
   "display_name": "Python 3",
   "language": "python",
   "name": "python3"
  },
  "language_info": {
   "codemirror_mode": {
    "name": "ipython",
    "version": 3
   },
   "file_extension": ".py",
   "mimetype": "text/x-python",
   "name": "python",
   "nbconvert_exporter": "python",
   "pygments_lexer": "ipython3",
   "version": "3.8.5"
  }
 },
 "nbformat": 4,
 "nbformat_minor": 4
}
