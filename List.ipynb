{
 "cells": [
  {
   "cell_type": "code",
   "execution_count": 1,
   "metadata": {},
   "outputs": [
    {
     "name": "stdout",
     "output_type": "stream",
     "text": [
      "<class 'list'>\n"
     ]
    }
   ],
   "source": [
    "a=[\"Nikita\",\"Renu\",\"Kajal\",\"Sayali\"]\n",
    "print(type(a))"
   ]
  },
  {
   "cell_type": "code",
   "execution_count": 2,
   "metadata": {},
   "outputs": [
    {
     "name": "stdout",
     "output_type": "stream",
     "text": [
      "<class 'list'>\n"
     ]
    }
   ],
   "source": [
    "b=list()\n",
    "print(type(b))"
   ]
  },
  {
   "cell_type": "code",
   "execution_count": 3,
   "metadata": {},
   "outputs": [
    {
     "name": "stdout",
     "output_type": "stream",
     "text": [
      "Diksha\n"
     ]
    }
   ],
   "source": [
    "# How to access item in the list\n",
    "\n",
    "a=[\"Nikita\",\"Renu\",\"Kajal\",\"Sayali\",\"Neha\",\"Diksha\"]\n",
    "ab=a[5]\n",
    "print(ab)"
   ]
  },
  {
   "cell_type": "code",
   "execution_count": 4,
   "metadata": {},
   "outputs": [
    {
     "name": "stdout",
     "output_type": "stream",
     "text": [
      "['Sayali', 'Neha']\n"
     ]
    }
   ],
   "source": [
    "a=[\"Nikita\",\"Renu\",\"Kajal\",\"Sayali\",\"Neha\",\"Diksha\"]\n",
    "ab=a[3:5]\n",
    "print(ab)"
   ]
  },
  {
   "cell_type": "code",
   "execution_count": 5,
   "metadata": {},
   "outputs": [
    {
     "name": "stdout",
     "output_type": "stream",
     "text": [
      "[]\n"
     ]
    }
   ],
   "source": [
    "a=[\"Nikita\",\"Renu\",\"Kajal\",\"Sayali\",\"Neha\",\"Diksha\"]\n",
    "ab=a[5:5]\n",
    "print(ab)"
   ]
  },
  {
   "cell_type": "code",
   "execution_count": 6,
   "metadata": {},
   "outputs": [
    {
     "name": "stdout",
     "output_type": "stream",
     "text": [
      "['Sayali', 'Neha']\n"
     ]
    }
   ],
   "source": [
    "a=[\"Nikita\",\"Renu\",\"Kajal\",\"Sayali\",\"Neha\",\"Diksha\"]\n",
    "ab=a[-3:5]\n",
    "print(ab)"
   ]
  },
  {
   "cell_type": "code",
   "execution_count": 7,
   "metadata": {},
   "outputs": [
    {
     "name": "stdout",
     "output_type": "stream",
     "text": [
      "['Sayali']\n"
     ]
    }
   ],
   "source": [
    "a=[\"Nikita\",\"Renu\",\"Kajal\",\"Sayali\",\"Neha\",\"Diksha\"]\n",
    "ab=a[-3:-2]\n",
    "print(ab)"
   ]
  },
  {
   "cell_type": "code",
   "execution_count": 8,
   "metadata": {},
   "outputs": [
    {
     "name": "stdout",
     "output_type": "stream",
     "text": [
      "[]\n"
     ]
    }
   ],
   "source": [
    "a=[\"Nikita\",\"Renu\",\"Kajal\",\"Sayali\",\"Neha\",\"Diksha\"]\n",
    "ab=a[-3:-5]\n",
    "print(ab)"
   ]
  },
  {
   "cell_type": "code",
   "execution_count": 9,
   "metadata": {},
   "outputs": [
    {
     "name": "stdout",
     "output_type": "stream",
     "text": [
      "['Nikita', 'Renu', 'Kajal', 'Sayali']\n"
     ]
    }
   ],
   "source": [
    "a=[\"Nikita\",\"Renu\",\"Kajal\",\"Sayali\"]\n",
    "print(a)"
   ]
  },
  {
   "cell_type": "code",
   "execution_count": 10,
   "metadata": {},
   "outputs": [
    {
     "name": "stdout",
     "output_type": "stream",
     "text": [
      "6\n"
     ]
    }
   ],
   "source": [
    "# Length\n",
    "\n",
    "a=[\"Nikita\",\"Renu\",\"Kajal\",\"Sayali\",\"Neha\",\"Diksha\"]\n",
    "print(len(a))"
   ]
  },
  {
   "cell_type": "code",
   "execution_count": 11,
   "metadata": {},
   "outputs": [
    {
     "name": "stdout",
     "output_type": "stream",
     "text": [
      "Enter the name: Ira\n",
      "['Nikta', 'Renu', 'Kajal', 'Sayali', 'Ira']\n"
     ]
    }
   ],
   "source": [
    "# Append\n",
    "\n",
    "AB=input(\"Enter the name: \")\n",
    "a=[\"Nikta\",\"Renu\",\"Kajal\",\"Sayali\"]\n",
    "a.append(AB)\n",
    "print(a)"
   ]
  },
  {
   "cell_type": "code",
   "execution_count": 12,
   "metadata": {},
   "outputs": [
    {
     "name": "stdout",
     "output_type": "stream",
     "text": [
      "Enter the name: Vinay\n",
      "['Nikita', 'Renu', 'Kajal', 'Vinay', 'Sayali']\n"
     ]
    }
   ],
   "source": [
    "#Insert\n",
    "\n",
    "AB=input(\"Enter the name: \")\n",
    "a=[\"Nikita\",\"Renu\",\"Kajal\",\"Sayali\"]\n",
    "a.insert(3,AB)\n",
    "print(a)"
   ]
  },
  {
   "cell_type": "code",
   "execution_count": 13,
   "metadata": {},
   "outputs": [
    {
     "name": "stdout",
     "output_type": "stream",
     "text": [
      "Enter the name: Renu\n",
      "['Nikita', 'Kajal', 'Sayali']\n"
     ]
    }
   ],
   "source": [
    "#Remove\n",
    "\n",
    "AB=input(\"Enter the name: \")\n",
    "a=[\"Nikita\",\"Renu\",\"Kajal\",\"Sayali\"]\n",
    "a.remove(AB)\n",
    "print(a)"
   ]
  },
  {
   "cell_type": "code",
   "execution_count": 14,
   "metadata": {},
   "outputs": [
    {
     "name": "stdout",
     "output_type": "stream",
     "text": [
      "[7, 5, 7, 6]\n"
     ]
    }
   ],
   "source": [
    "am=[3,7,5,7,6]\n",
    "am.remove(3)\n",
    "print(am)"
   ]
  },
  {
   "cell_type": "code",
   "execution_count": 15,
   "metadata": {},
   "outputs": [
    {
     "name": "stdout",
     "output_type": "stream",
     "text": [
      "[3, 7, 5, 6]\n"
     ]
    }
   ],
   "source": [
    "am=[3,7,5,7,6]\n",
    "del am[3]\n",
    "print(am)"
   ]
  },
  {
   "cell_type": "code",
   "execution_count": 16,
   "metadata": {},
   "outputs": [
    {
     "name": "stdout",
     "output_type": "stream",
     "text": [
      "['Nikita', 'Renu', 'Kajal', 'Sayali', 'Pranav', 'Sahil', 'Vinay', 'Pruthvi']\n"
     ]
    }
   ],
   "source": [
    "# Concatenate\n",
    "# It combines 2 sets.\n",
    "\n",
    "a=[\"Nikita\",\"Renu\",\"Kajal\",\"Sayali\"]\n",
    "b=[\"Pranav\",\"Sahil\",\"Vinay\",\"Pruthvi\"]\n",
    "ab=a+b\n",
    "print(ab)"
   ]
  },
  {
   "cell_type": "code",
   "execution_count": 17,
   "metadata": {},
   "outputs": [
    {
     "name": "stdout",
     "output_type": "stream",
     "text": [
      "['Nikita', 'Renu', 'Kajal', 'Sayali', 'Nikita', 'Renu', 'Kajal', 'Sayali']\n"
     ]
    }
   ],
   "source": [
    "# a*2\n",
    "\n",
    "a=[\"Nikita\",\"Renu\",\"Kajal\",\"Sayali\"]\n",
    "ab=a*2\n",
    "print(ab)"
   ]
  }
 ],
 "metadata": {
  "kernelspec": {
   "display_name": "Python 3",
   "language": "python",
   "name": "python3"
  },
  "language_info": {
   "codemirror_mode": {
    "name": "ipython",
    "version": 3
   },
   "file_extension": ".py",
   "mimetype": "text/x-python",
   "name": "python",
   "nbconvert_exporter": "python",
   "pygments_lexer": "ipython3",
   "version": "3.8.5"
  }
 },
 "nbformat": 4,
 "nbformat_minor": 4
}
