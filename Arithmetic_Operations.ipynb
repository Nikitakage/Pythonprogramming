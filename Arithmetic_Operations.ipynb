{
 "cells": [
  {
   "cell_type": "code",
   "execution_count": 1,
   "metadata": {},
   "outputs": [
    {
     "name": "stdout",
     "output_type": "stream",
     "text": [
      "Ans= 41.0\n"
     ]
    }
   ],
   "source": [
    "a=82\n",
    "b=2\n",
    "c=a/b\n",
    "print(\"Ans=\",c)"
   ]
  },
  {
   "cell_type": "code",
   "execution_count": 2,
   "metadata": {},
   "outputs": [
    {
     "name": "stdout",
     "output_type": "stream",
     "text": [
      "Enter the number:56\n",
      "Enter the number:32\n",
      "Answer: 88\n"
     ]
    }
   ],
   "source": [
    "a = int(input(\"Enter the number:\"))\n",
    "b = int(input(\"Enter the number:\"))\n",
    "print(\"Answer:\", a+b)"
   ]
  },
  {
   "cell_type": "code",
   "execution_count": 3,
   "metadata": {},
   "outputs": [
    {
     "name": "stdout",
     "output_type": "stream",
     "text": [
      "enter the value of a:65\n",
      "enter the value of b:2\n",
      "Multiplication= 130\n",
      "______________________________________\n",
      "enter the value of a:45\n",
      "enter the value of b:3\n",
      "Multiplication= 135\n",
      "______________________________________\n"
     ]
    }
   ],
   "source": [
    "for x in range(2):\n",
    "    a=int(input(\"enter the value of a:\"))\n",
    "    b=int(input(\"enter the value of b:\"))\n",
    "    print(\"Multiplication=\",a*b)\n",
    "    print(\"______________________________________\")\n"
   ]
  },
  {
   "cell_type": "code",
   "execution_count": 4,
   "metadata": {},
   "outputs": [
    {
     "name": "stdout",
     "output_type": "stream",
     "text": [
      "<class 'str'>\n",
      "<class 'int'>\n",
      "<class 'float'>\n"
     ]
    }
   ],
   "source": [
    "a = \"Nik\"\n",
    "b = 5674\n",
    "c = 5.23\n",
    "print(type(a))\n",
    "print(type(b))\n",
    "print(type(c))"
   ]
  },
  {
   "cell_type": "code",
   "execution_count": 5,
   "metadata": {},
   "outputs": [
    {
     "name": "stdout",
     "output_type": "stream",
     "text": [
      "94.2\n"
     ]
    }
   ],
   "source": [
    "# Area of circle = 2*pi*r\n",
    "pi=3.14\n",
    "r=15\n",
    "area_of_circle = 2*pi*r\n",
    "print(area_of_circle)"
   ]
  },
  {
   "cell_type": "code",
   "execution_count": 6,
   "metadata": {},
   "outputs": [
    {
     "name": "stdout",
     "output_type": "stream",
     "text": [
      "Enter the number:2\n",
      "Enter the b value:65\n",
      "Enter the h value:8\n",
      "260.0\n",
      "________________________________________\n",
      "Enter the b value:2\n",
      "Enter the h value:6\n",
      "6.0\n",
      "________________________________________\n"
     ]
    }
   ],
   "source": [
    "## Area of Triangle 1/2*(b*h)\n",
    "\n",
    "n=int(input(\"Enter the number:\"))\n",
    "for x in range(n):\n",
    "    b = int(input(\"Enter the b value:\"))\n",
    "    h = int(input(\"Enter the h value:\"))\n",
    "    area_of_triangle = 1/2*(b*h)\n",
    "    print(1/2*(b*h))\n",
    "    print(\"________________________________________\")"
   ]
  },
  {
   "cell_type": "code",
   "execution_count": 7,
   "metadata": {},
   "outputs": [
    {
     "name": "stdout",
     "output_type": "stream",
     "text": [
      "Enter the value of s: 34\n",
      "136\n",
      "------------------------------\n",
      "Enter the value of s: 68\n",
      "272\n",
      "------------------------------\n",
      "Enter the value of s: 5\n",
      "20\n",
      "------------------------------\n",
      "Enter the value of s: 21\n",
      "84\n",
      "------------------------------\n"
     ]
    }
   ],
   "source": [
    "#Area of square 4s\n",
    "\n",
    "for x in range(4):\n",
    "    \n",
    "    s=int(input(\"Enter the value of s: \"))\n",
    "    area_of_square = 4*s\n",
    "    print(area_of_square)\n",
    "    print(\"------------------------------\")"
   ]
  },
  {
   "cell_type": "code",
   "execution_count": 8,
   "metadata": {},
   "outputs": [
    {
     "name": "stdout",
     "output_type": "stream",
     "text": [
      "enter the value of l:56\n",
      "enter the value of w:32\n",
      "area of rectangle: 176\n",
      "_______________________\n",
      "enter the value of l:43\n",
      "enter the value of w:5\n",
      "area of rectangle: 96\n",
      "_______________________\n",
      "enter the value :65\n",
      "enter the value :4\n",
      "Substraction is: 61\n",
      "________________\n",
      "enter the value :89\n",
      "enter the value :45\n",
      "Substraction is: 44\n",
      "________________\n",
      "enter the value :75\n",
      "enter the value :45\n",
      "Substraction is: 30\n",
      "________________\n"
     ]
    }
   ],
   "source": [
    "# Area of rectangle =2(l+w)\n",
    "for x in range(2):\n",
    "    l=int(input(\"enter the value of l:\"))\n",
    "    w=int(input(\"enter the value of w:\"))\n",
    "    area_of_rectangle = 2*(l+w)\n",
    "    print(\"area of rectangle:\",area_of_rectangle)\n",
    "    print(\"_______________________\")\n",
    "    \n",
    "for x in \"hey\":\n",
    "    a=int(input(\"enter the value :\"))\n",
    "    b=int(input(\"enter the value :\"))\n",
    "    print(\"Substraction is:\",a-b)\n",
    "    print(\"________________\")"
   ]
  },
  {
   "cell_type": "code",
   "execution_count": null,
   "metadata": {},
   "outputs": [],
   "source": []
  }
 ],
 "metadata": {
  "kernelspec": {
   "display_name": "Python 3",
   "language": "python",
   "name": "python3"
  },
  "language_info": {
   "codemirror_mode": {
    "name": "ipython",
    "version": 3
   },
   "file_extension": ".py",
   "mimetype": "text/x-python",
   "name": "python",
   "nbconvert_exporter": "python",
   "pygments_lexer": "ipython3",
   "version": "3.8.5"
  }
 },
 "nbformat": 4,
 "nbformat_minor": 4
}
