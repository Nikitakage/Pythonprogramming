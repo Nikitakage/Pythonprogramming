{
 "cells": [
  {
   "cell_type": "code",
   "execution_count": 1,
   "metadata": {},
   "outputs": [
    {
     "name": "stdout",
     "output_type": "stream",
     "text": [
      "Hello\n",
      "Welcome\n",
      "to\n",
      "India\n"
     ]
    }
   ],
   "source": [
    "def Fun(*y):          # *-because  we take multiple values in y \n",
    "    for x in y:\n",
    "        print(x)\n",
    " \n",
    " \n",
    "Fun('Hello', 'Welcome', 'to', 'India')\n"
   ]
  },
  {
   "cell_type": "code",
   "execution_count": 2,
   "metadata": {},
   "outputs": [
    {
     "name": "stdout",
     "output_type": "stream",
     "text": [
      "Nik\n",
      "Neha\n",
      "Diksha\n",
      "Arohi\n",
      "Ira\n"
     ]
    }
   ],
   "source": [
    "def xyz(girls):\n",
    "    for x in girls:\n",
    "        print(x)\n",
    "Names=[\"Nik\",\"Neha\",\"Diksha\",\"Arohi\",\"Ira\"]\n",
    "xyz(Names)"
   ]
  },
  {
   "cell_type": "code",
   "execution_count": 3,
   "metadata": {},
   "outputs": [
    {
     "name": "stdout",
     "output_type": "stream",
     "text": [
      "even\n",
      "odd\n"
     ]
    }
   ],
   "source": [
    "def evenOdd(x):\n",
    "    if (x % 2 == 0):\n",
    "        print(\"even\")\n",
    "    else:\n",
    "        print(\"odd\")\n",
    "        \n",
    "evenOdd(2)\n",
    "evenOdd(3)"
   ]
  },
  {
   "cell_type": "code",
   "execution_count": 4,
   "metadata": {},
   "outputs": [
    {
     "name": "stdout",
     "output_type": "stream",
     "text": [
      "Value inside function: 10\n",
      "Value outside function: 20\n"
     ]
    }
   ],
   "source": [
    "def my_func():\n",
    "    x = 10\n",
    "    print(\"Value inside function:\",x)\n",
    "\n",
    "x = 20\n",
    "my_func()\n",
    "print(\"Value outside function:\",x)"
   ]
  },
  {
   "cell_type": "code",
   "execution_count": 5,
   "metadata": {},
   "outputs": [
    {
     "name": "stdout",
     "output_type": "stream",
     "text": [
      "The youngest child is Disha\n"
     ]
    }
   ],
   "source": [
    "def self(child3, child2, child1):\n",
    "    print(\"The youngest child is \" + child3)\n",
    "\n",
    "self(child1 = \"Ankita\", child2 = \"Nikita\", child3 = \"Disha\")\n"
   ]
  },
  {
   "cell_type": "code",
   "execution_count": 6,
   "metadata": {},
   "outputs": [
    {
     "name": "stdout",
     "output_type": "stream",
     "text": [
      "Enter the A value:56\n",
      "Enter the B value:87\n",
      "143\n",
      "Addition of A & B: None\n",
      "-31\n",
      "Substraction of A & B: None\n",
      "4872\n",
      "Multiplication of A & B: None\n"
     ]
    }
   ],
   "source": [
    "def addition(a,b):\n",
    "    x=a+b\n",
    "    print(x)\n",
    "    \n",
    "def substraction(a,b):\n",
    "    y=a-b\n",
    "    print(y)\n",
    "    \n",
    "def multiplication(a,b):\n",
    "    z=a*b\n",
    "    print(z)\n",
    "    \n",
    "a=int(input(\"Enter the A value:\"))\n",
    "b=int(input(\"Enter the B value:\"))\n",
    "\n",
    "print(\"Addition of A & B:\",addition(a,b))\n",
    "print(\"Substraction of A & B:\",substraction(a,b))\n",
    "print(\"Multiplication of A & B:\",multiplication(a,b))"
   ]
  },
  {
   "cell_type": "code",
   "execution_count": 7,
   "metadata": {},
   "outputs": [
    {
     "name": "stdout",
     "output_type": "stream",
     "text": [
      "Enter the value: 25\n",
      "92\n",
      "117\n",
      "51\n"
     ]
    }
   ],
   "source": [
    "def add():\n",
    "    a=23\n",
    "    b=69\n",
    "    print(a+b)\n",
    "    return a+b\n",
    "\n",
    "def mul(m):\n",
    "    n=add()\n",
    "    c=n+m\n",
    "    print(c)\n",
    "    return c\n",
    "\n",
    "def sub():\n",
    "    m=int(input(\"Enter the value: \"))\n",
    "    d=mul(m)\n",
    "    a=56\n",
    "    b=5\n",
    "    print(a-b)\n",
    "    \n",
    "sub()"
   ]
  },
  {
   "cell_type": "code",
   "execution_count": 8,
   "metadata": {},
   "outputs": [
    {
     "name": "stdout",
     "output_type": "stream",
     "text": [
      "Enter the value of m: 36\n",
      "_________________________________\n",
      "Entre the value of A:45\n",
      "Enter the value of B:47\n",
      "92\n",
      "_______________________________\n",
      "128\n",
      "_________________________________\n",
      "Enter the value of a:89\n",
      "Enter the value of b:64\n",
      "25\n",
      "______________________________________________\n"
     ]
    }
   ],
   "source": [
    "def add():\n",
    "    a=int(input(\"Entre the value of A:\"))\n",
    "    b=int(input(\"Enter the value of B:\"))\n",
    "    print(a+b)\n",
    "    return a+b\n",
    "\n",
    "def mul(m):\n",
    "    n=add()\n",
    "    print(\"_______________________________\")\n",
    "    c=n+m\n",
    "    print(c)\n",
    "    return c\n",
    "\n",
    "def sub():\n",
    "    m=int(input(\"Enter the value of m: \"))\n",
    "    print(\"_________________________________\")\n",
    "    d=mul(m)\n",
    "    print(\"_________________________________\")\n",
    "    a=int(input(\"Enter the value of a:\"))\n",
    "    b=int(input(\"Enter the value of b:\"))\n",
    "    print(a-b)\n",
    "    \n",
    "sub()\n",
    "print(\"______________________________________________\")\n"
   ]
  },
  {
   "cell_type": "code",
   "execution_count": 1,
   "metadata": {},
   "outputs": [
    {
     "name": "stdout",
     "output_type": "stream",
     "text": [
      "Enter the N value:2\n",
      "________________________________\n",
      "Enter the name:Nik\n",
      "Enter the Email_id:nik@123\n",
      "Enter the city name:Pune\n",
      "Enter the Branch:CSC\n",
      "Enter the contact_no:987456123\n",
      "Name: Nik ____ Email_id: nik@123 ____ City: Pune ___ Branch: CSC ___ contact_no: 987456123\n",
      "****************************************************************************************************\n",
      "Enter the name:Diksha\n",
      "Enter the Email_id:diksha@345\n",
      "Enter the city name:Pune\n",
      "Enter the Branch:CSC\n",
      "Enter the contact_no:887945613\n",
      "Name: Diksha ____ Email_id: diksha@345 ____ City: Pune ___ Branch: CSC ___ contact_no: 887945613\n",
      "****************************************************************************************************\n"
     ]
    }
   ],
   "source": [
    "n = int(input(\"Enter the N value:\"))\n",
    "print(\"________________________________\")\n",
    "for x in range(n):\n",
    "    def Regi_form():\n",
    "        Name = input(\"Enter the name:\")\n",
    "        Email_id = input(\"Enter the Email_id:\")\n",
    "        City = input(\"Enter the city name:\")\n",
    "        Branch = input(\"Enter the Branch:\")\n",
    "        contact= int(input(\"Enter the contact_no:\"))\n",
    "        print(\"Name:\",Name,\"____\",\"Email_id:\",Email_id,\"____\",\"City:\",City,\"___\",\"Branch:\",Branch,\"___\",\"contact_no:\",contact)\n",
    "        print(\"****************************************************************************************************\")\n",
    "    \n",
    "    Regi_form()  "
   ]
  }
 ],
 "metadata": {
  "kernelspec": {
   "display_name": "Python 3",
   "language": "python",
   "name": "python3"
  },
  "language_info": {
   "codemirror_mode": {
    "name": "ipython",
    "version": 3
   },
   "file_extension": ".py",
   "mimetype": "text/x-python",
   "name": "python",
   "nbconvert_exporter": "python",
   "pygments_lexer": "ipython3",
   "version": "3.8.5"
  }
 },
 "nbformat": 4,
 "nbformat_minor": 4
}
