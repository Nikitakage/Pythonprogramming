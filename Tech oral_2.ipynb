{
 "cells": [
  {
   "cell_type": "code",
   "execution_count": 1,
   "metadata": {},
   "outputs": [
    {
     "name": "stdout",
     "output_type": "stream",
     "text": [
      "0\n",
      "1\n",
      "2\n",
      "3\n",
      "4\n",
      "5\n",
      "6\n",
      "7\n",
      "8\n",
      "9\n"
     ]
    }
   ],
   "source": [
    "for x in range(10):\n",
    "    print(x)"
   ]
  },
  {
   "cell_type": "code",
   "execution_count": 2,
   "metadata": {},
   "outputs": [
    {
     "name": "stdout",
     "output_type": "stream",
     "text": [
      "Enter the name: Diksha\n",
      "Enter the name: Nish\n",
      "['Nik', 'Sayali', 'Neha', 'Diksha', 'Nish']\n"
     ]
    }
   ],
   "source": [
    "ab=[\"Nik\",\"Sayali\",\"Neha\"]\n",
    "for x in range(2):\n",
    "    a=input(\"Enter the name: \")\n",
    "    ab.append(a)\n",
    "print(ab)"
   ]
  },
  {
   "cell_type": "code",
   "execution_count": 3,
   "metadata": {},
   "outputs": [
    {
     "name": "stdout",
     "output_type": "stream",
     "text": [
      "Enter the name: hgb\n",
      "Enter the name: h\n",
      "['Nik', 'Sayali', 'Neha', 'hgb', 'h']\n",
      "I am happy\n",
      "I am happy\n",
      "I am happy\n",
      "I am happy\n",
      "I am happy\n"
     ]
    }
   ],
   "source": [
    "ab=[\"Nik\",\"Sayali\",\"Neha\"]\n",
    "for x in range(2):\n",
    "    a=input(\"Enter the name: \")\n",
    "    ab.append(a)\n",
    "print(ab)\n",
    "for i in ab:\n",
    "    print(\"I am happy\")"
   ]
  },
  {
   "cell_type": "code",
   "execution_count": 4,
   "metadata": {},
   "outputs": [
    {
     "name": "stdout",
     "output_type": "stream",
     "text": [
      "Enter the value: ghj\n",
      "Enter the value: yu\n",
      "['Nik', 'Sayali', 'Neha', 'Diksh', 'ghj', 'yu']\n"
     ]
    }
   ],
   "source": [
    "ad=[\"Nik\",\"Sayali\",\"Neha\",\"Diksh\"]\n",
    "sm=[\"Satara\",\"Delhi\",\"Pune\",\"sangli\"]\n",
    "for x in sm:\n",
    "    if x==\"Pune\":\n",
    "        for y in range(2):\n",
    "            b=input(\"Enter the value: \")\n",
    "            ad.append(b)\n",
    "print(ad)\n",
    "        \n",
    "        \n"
   ]
  },
  {
   "cell_type": "code",
   "execution_count": 5,
   "metadata": {},
   "outputs": [
    {
     "name": "stdout",
     "output_type": "stream",
     "text": [
      "['Ankita', 'Nik', 'Sayali', 'Neha', 'Diksh']\n"
     ]
    }
   ],
   "source": [
    "ab=[\"Nik\",\"Sayali\",\"Neha\",\"Diksh\"]\n",
    "sn=[\"Satara\",\"Delhi\",\"Pune\",\"sangli\"]\n",
    "for x in sn:\n",
    "    if x==\"Pune\":\n",
    "        ab.insert(0,\"Ankita\")\n",
    "print(ab)\n",
    "        "
   ]
  },
  {
   "cell_type": "code",
   "execution_count": 6,
   "metadata": {},
   "outputs": [
    {
     "name": "stdout",
     "output_type": "stream",
     "text": [
      "[20, 30, 40]\n",
      "[25, 35]\n"
     ]
    }
   ],
   "source": [
    "# even odd\n",
    "\n",
    "a=[20,30,40,25,35]\n",
    "even=[]\n",
    "odd=[]\n",
    "for x in a:\n",
    "    if x%2==0:\n",
    "        even.append(x)\n",
    "    else:\n",
    "        odd.append(x)\n",
    "            \n",
    "print(even)\n",
    "print(odd)\n",
    "\n"
   ]
  },
  {
   "cell_type": "code",
   "execution_count": 7,
   "metadata": {},
   "outputs": [
    {
     "data": {
      "text/plain": [
       "[20, 30, 40, 25, 35]"
      ]
     },
     "execution_count": 7,
     "metadata": {},
     "output_type": "execute_result"
    }
   ],
   "source": [
    "b=even+odd\n",
    "b"
   ]
  },
  {
   "cell_type": "code",
   "execution_count": 8,
   "metadata": {},
   "outputs": [
    {
     "data": {
      "text/plain": [
       "[20, 25, 30, 35, 40]"
      ]
     },
     "execution_count": 8,
     "metadata": {},
     "output_type": "execute_result"
    }
   ],
   "source": [
    "b.sort()\n",
    "b"
   ]
  },
  {
   "cell_type": "code",
   "execution_count": 9,
   "metadata": {},
   "outputs": [
    {
     "data": {
      "text/plain": [
       "[20, 22, 30, 13, 41]"
      ]
     },
     "execution_count": 9,
     "metadata": {},
     "output_type": "execute_result"
    }
   ],
   "source": [
    "\n",
    "a=[22,13,41,20,30]\n",
    "even=[]\n",
    "odd=[]\n",
    "for x in a:\n",
    "    if x%2==0:\n",
    "        even.append(x)\n",
    "    else:\n",
    "        odd.append(x)\n",
    "even.sort()\n",
    "odd.sort()\n",
    "b=even+odd\n",
    "b\n",
    "\n"
   ]
  },
  {
   "cell_type": "code",
   "execution_count": 10,
   "metadata": {},
   "outputs": [
    {
     "name": "stdout",
     "output_type": "stream",
     "text": [
      "[35, 25, 40, 30, 20]\n"
     ]
    }
   ],
   "source": [
    "# Swapping\n",
    "\n",
    "a=[20,30,40,25,35]\n",
    "a[0],a[4]=a[4],a[0]\n",
    "a[1],a[3]=a[3],a[1]\n",
    "print(a)"
   ]
  },
  {
   "cell_type": "code",
   "execution_count": null,
   "metadata": {},
   "outputs": [],
   "source": []
  }
 ],
 "metadata": {
  "kernelspec": {
   "display_name": "Python 3",
   "language": "python",
   "name": "python3"
  },
  "language_info": {
   "codemirror_mode": {
    "name": "ipython",
    "version": 3
   },
   "file_extension": ".py",
   "mimetype": "text/x-python",
   "name": "python",
   "nbconvert_exporter": "python",
   "pygments_lexer": "ipython3",
   "version": "3.8.5"
  }
 },
 "nbformat": 4,
 "nbformat_minor": 4
}
