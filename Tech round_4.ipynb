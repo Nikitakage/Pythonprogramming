{
 "cells": [
  {
   "cell_type": "code",
   "execution_count": 1,
   "metadata": {},
   "outputs": [
    {
     "name": "stdout",
     "output_type": "stream",
     "text": [
      "0\n",
      "1\n",
      "2\n",
      "3\n",
      "4\n",
      "5\n",
      "6\n",
      "7\n",
      "8\n",
      "9\n"
     ]
    }
   ],
   "source": [
    "for x in range(10):\n",
    "    print(x)"
   ]
  },
  {
   "cell_type": "code",
   "execution_count": 2,
   "metadata": {},
   "outputs": [
    {
     "name": "stdout",
     "output_type": "stream",
     "text": [
      "Enter the value...56\n",
      "Enter the value...20\n",
      "76\n"
     ]
    }
   ],
   "source": [
    "a=int(input(\"Enter the value...\"))\n",
    "b=int(input(\"Enter the value...\"))\n",
    "print(a+b)"
   ]
  },
  {
   "cell_type": "code",
   "execution_count": 3,
   "metadata": {},
   "outputs": [
    {
     "name": "stdout",
     "output_type": "stream",
     "text": [
      "Enter the value...50\n",
      "Enter the value...23\n",
      "73\n",
      "Enter the value...12\n",
      "Enter the value...40\n",
      "52\n",
      "Enter the value...5\n",
      "Enter the value...13\n",
      "18\n"
     ]
    }
   ],
   "source": [
    "for x in range(3):\n",
    "    \n",
    "    a=int(input(\"Enter the value...\"))\n",
    "    b=int(input(\"Enter the value...\"))\n",
    "    print(a+b)"
   ]
  },
  {
   "cell_type": "code",
   "execution_count": 4,
   "metadata": {},
   "outputs": [
    {
     "name": "stdout",
     "output_type": "stream",
     "text": [
      "Enter the value...50\n",
      "Enter the value...30\n",
      "Its true...\n"
     ]
    }
   ],
   "source": [
    "a=int(input(\"Enter the value...\"))\n",
    "b=int(input(\"Enter the value...\"))\n",
    "if a==50 and b==30:\n",
    "    print(\"Its true...\")\n",
    "    \n",
    "else:\n",
    "    print(\"Its false...\")"
   ]
  },
  {
   "cell_type": "code",
   "execution_count": 5,
   "metadata": {},
   "outputs": [
    {
     "name": "stdout",
     "output_type": "stream",
     "text": [
      "Enter the value...20\n",
      "Enter the value...40\n",
      "60\n"
     ]
    }
   ],
   "source": [
    "def add(a,b):\n",
    "    print(a+b)\n",
    "    \n",
    "a=int(input(\"Enter the value...\"))\n",
    "b=int(input(\"Enter the value...\"))\n",
    "add(a,b)"
   ]
  },
  {
   "cell_type": "code",
   "execution_count": 1,
   "metadata": {},
   "outputs": [
    {
     "name": "stdout",
     "output_type": "stream",
     "text": [
      "Enter the marks...20\n",
      "Fail...\n",
      "Enter the marks...50\n",
      "Pass with good marks..\n",
      "Enter the marks...88\n",
      "pass with First class...\n",
      "Enter the marks...30\n",
      "Fail...\n",
      "Enter the marks...90\n",
      "pass with First class...\n"
     ]
    }
   ],
   "source": [
    "def info(a):\n",
    "\n",
    "    if a>=85 and a<=100:\n",
    "        print(\"pass with First class...\")\n",
    "    elif a>=50 and a<=85:\n",
    "        print(\"Pass with good marks..\")\n",
    "    elif a<35 :\n",
    "        print(\"Fail...\")\n",
    "    else:\n",
    "        print(\"Your input is worng...\")\n",
    "for x in range(5):      \n",
    "    a=int(input(\"Enter the marks...\"))\n",
    "    info(a)"
   ]
  },
  {
   "cell_type": "code",
   "execution_count": null,
   "metadata": {},
   "outputs": [],
   "source": []
  }
 ],
 "metadata": {
  "kernelspec": {
   "display_name": "Python 3",
   "language": "python",
   "name": "python3"
  },
  "language_info": {
   "codemirror_mode": {
    "name": "ipython",
    "version": 3
   },
   "file_extension": ".py",
   "mimetype": "text/x-python",
   "name": "python",
   "nbconvert_exporter": "python",
   "pygments_lexer": "ipython3",
   "version": "3.8.5"
  }
 },
 "nbformat": 4,
 "nbformat_minor": 4
}
