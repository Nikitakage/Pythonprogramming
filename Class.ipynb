{
 "cells": [
  {
   "cell_type": "markdown",
   "metadata": {},
   "source": [
    "# Class"
   ]
  },
  {
   "cell_type": "code",
   "execution_count": 1,
   "metadata": {},
   "outputs": [
    {
     "name": "stdout",
     "output_type": "stream",
     "text": [
      "5\n"
     ]
    }
   ],
   "source": [
    "class MyClass:\n",
    "    x=5\n",
    "\n",
    "o=MyClass()\n",
    "print(o.x)\n"
   ]
  },
  {
   "cell_type": "code",
   "execution_count": 2,
   "metadata": {},
   "outputs": [
    {
     "name": "stdout",
     "output_type": "stream",
     "text": [
      "87\n"
     ]
    }
   ],
   "source": [
    "class operation:\n",
    "    def add(self):\n",
    "        a=29\n",
    "        b=58\n",
    "        print(a+b)\n",
    "        \n",
    "o=operation()\n",
    "o.add()"
   ]
  },
  {
   "cell_type": "code",
   "execution_count": 3,
   "metadata": {},
   "outputs": [
    {
     "name": "stdout",
     "output_type": "stream",
     "text": [
      "Enter the value: 98\n",
      "Enter the value: 63\n",
      "35\n"
     ]
    }
   ],
   "source": [
    "class opera:\n",
    "    def sub(self):\n",
    "        a=int(input(\"Enter the value: \"))\n",
    "        b=int(input(\"Enter the value: \"))\n",
    "        print(a-b)\n",
    "        \n",
    "o=opera()\n",
    "o.sub()\n"
   ]
  },
  {
   "cell_type": "code",
   "execution_count": 4,
   "metadata": {},
   "outputs": [
    {
     "name": "stdout",
     "output_type": "stream",
     "text": [
      "Enter the value: 65\n",
      "Enter the value: 3\n",
      "195\n",
      "Enter the value: 66\n",
      "Enter the value: 3\n",
      "22.0\n"
     ]
    }
   ],
   "source": [
    "class opera:\n",
    "    def mul(self):\n",
    "        a=int(input(\"Enter the value: \"))\n",
    "        b=int(input(\"Enter the value: \"))\n",
    "        print(a*b)\n",
    "        \n",
    "    def div(self):\n",
    "        d=int(input(\"Enter the value: \"))\n",
    "        c=int(input(\"Enter the value: \"))\n",
    "        print(d/c)\n",
    "        \n",
    "o=opera()\n",
    "o.mul()\n",
    "o.div()"
   ]
  },
  {
   "cell_type": "code",
   "execution_count": 5,
   "metadata": {},
   "outputs": [
    {
     "name": "stdout",
     "output_type": "stream",
     "text": [
      "My name is: Nik\n",
      "My contact no.is: 98654231\n",
      "My city name is: Pune\n"
     ]
    }
   ],
   "source": [
    "class student:\n",
    "    def xyz(self):\n",
    "        self.name=\"Nik\"\n",
    "        self.contact=98654231\n",
    "        self.city=\"Pune\"\n",
    "        \n",
    "    def show(self):\n",
    "        print(\"My name is:\",self.name)\n",
    "        print(\"My contact no.is:\",self.contact)\n",
    "        print(\"My city name is:\",self.city)\n",
    "o=student()\n",
    "o.xyz()\n",
    "o.show()"
   ]
  },
  {
   "cell_type": "code",
   "execution_count": 6,
   "metadata": {},
   "outputs": [
    {
     "name": "stdout",
     "output_type": "stream",
     "text": [
      "Enter the name: Nikita\n",
      "Enter the number: 698745123\n",
      "Enter the email_id: Nikita@78\n",
      "Name: Nikita __ Number: 698745123 ___ Email_id: nik@12\n"
     ]
    }
   ],
   "source": [
    "class person:\n",
    "    def xyz(self,a,b,c=\"nik@12\"):\n",
    "        print(\"Name:\",a,\"__\",\"Number:\",b,\"___\",\"Email_id:\",c)\n",
    "a=input(\"Enter the name: \")\n",
    "b=int(input(\"Enter the number: \"))\n",
    "c=input(\"Enter the email_id: \")\n",
    "  \n",
    "o=person()\n",
    "o.xyz(a,b)"
   ]
  },
  {
   "cell_type": "code",
   "execution_count": 7,
   "metadata": {},
   "outputs": [
    {
     "name": "stdout",
     "output_type": "stream",
     "text": [
      "Hello my name is Neha\n"
     ]
    }
   ],
   "source": [
    "class Person:\n",
    "    def __init__(self, name, age):\n",
    "        self.name = name\n",
    "        self.age = age\n",
    "\n",
    "    def call(self):\n",
    "        print(\"Hello my name is \" + self.name)\n",
    "\n",
    "o = Person(\"Neha\",19)\n",
    "o.call()"
   ]
  },
  {
   "cell_type": "code",
   "execution_count": 8,
   "metadata": {},
   "outputs": [
    {
     "name": "stdout",
     "output_type": "stream",
     "text": [
      "Enter the Name=Arohi\n",
      "Enter the city=Pune\n",
      "Enter the Email_id=ARU@45\n",
      "----------------------------------\n",
      "My name is= Arohi\n",
      "My city is= Pune\n",
      "My Email_id is= ARU@45\n"
     ]
    }
   ],
   "source": [
    "class student:\n",
    "    def call(self,name,city,Email_id):\n",
    "        self.name=name\n",
    "        self.city=city\n",
    "        self.Email_id=Email_id\n",
    "        \n",
    "    def show(self):\n",
    "        print(\"My name is=\",self.name)\n",
    "        print(\"My city is=\",self.city)\n",
    "        print(\"My Email_id is=\",self.Email_id)\n",
    "    \n",
    "a=input(\"Enter the Name=\")\n",
    "b=input(\"Enter the city=\")\n",
    "c=input(\"Enter the Email_id=\")\n",
    "print(\"----------------------------------\")\n",
    "o=student()\n",
    "o.call(a,b,c)\n",
    "o.show()\n",
    "\n",
    "        "
   ]
  }
 ],
 "metadata": {
  "kernelspec": {
   "display_name": "Python 3",
   "language": "python",
   "name": "python3"
  },
  "language_info": {
   "codemirror_mode": {
    "name": "ipython",
    "version": 3
   },
   "file_extension": ".py",
   "mimetype": "text/x-python",
   "name": "python",
   "nbconvert_exporter": "python",
   "pygments_lexer": "ipython3",
   "version": "3.8.5"
  }
 },
 "nbformat": 4,
 "nbformat_minor": 4
}
